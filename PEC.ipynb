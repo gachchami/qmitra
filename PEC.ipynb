{
 "cells": [
  {
   "cell_type": "markdown",
   "id": "4cd7832a",
   "metadata": {},
   "source": [
    "- a set of auxiliary circuits are probabilistically sampled -> executed on a noisy backend -> post processing of noisy result to get error mitigated result -> probabilistically remove the noise of a quantum computer\n",
    "- represent each ideal unitary gate G in a circuit as an average over a set of noisy gates {Oα},weighted by a real quasi-probability distribution η(α)\n",
    "  G = ∑η(α)Oα = sum over noisy operations Oα\n",
    "  ∑ η(α) = 1 (trace-preserving condition) G and {Oα} linear super-operators acting on density matrices.\n",
    "-  ideal expectation value can be estimated as a Monte Carlo average over different noisy circuits,sampled according to the quasi-probability distributions associated to the ideal gates\n",
    "- due to negativity of η(α) the required number of Monte Carlo samples can be large.\n",
    "- knowing perfect tomography of Oα perfectly cancel hardware noise.\n",
    "- NoisyOperation(circuit, channel_matrix=None) : operation (or sequence of operations)which a noisy quantum computer can actually implement.\n",
    "- define noisy operations{Oα} (by NoisyOperation) -> associate to each operation the corresponding quasi-probability η(α) -> OperationRepresentation  -> apply PEC via the function execute_with_pec\n",
    "  OperationRepresentation(ideal, noisy_operations, coeffs, is_qubit_dependent=True): basis expansion of an operation or sequence of operations in a basis of noisy, implementable operations.\n",
    "  \n",
    "- determine the quasi-probability representations:\n",
    "  1.hardware noise model is well approximated by a simplified theoretical quantum channel(e.g. depolarizing or amplitude damping) -> apply known analytical expressions.\n",
    "  2.complete process tomography of a basis set of implementable noisy operations (e.g. the native gate set of the backend)\n",
    "  find_optimal_representation():\n",
    " - execute_with_pec : internally performs the Monte Carlo sampling process.\n",
    "   -noisy_operation , sign , eta = operation_rep . sample () :returns the associated coefficient (use for manual sampling)\n",
    "   \n",
    "   -sample_circuit() :sampling an entire implementable circuit from the quasiprobability representation of an ideal circuit\n",
    " \n",
    " \n",
    " \n",
    " -Disadvantages:\n",
    ". number of samples grows exponentially with respect to the circuit size and to the amount of noise.\n",
    ".for ideal expectation value,quasi-probability representations of all the gates are known with sufficiently large accuracy.\n",
    ".full tomography of the noisy gates is typically\n",
    "necessary in order to build the quasi-probability representations for the ideal gates.\n",
    "\n",
    " \n",
    " \n",
    " \n",
    "  \n",
    "  "
   ]
  },
  {
   "cell_type": "code",
   "execution_count": 1,
   "id": "fcdfe3f6",
   "metadata": {},
   "outputs": [
    {
     "data": {
      "text/plain": [
       "dict_keys(['cirq', 'pyquil', 'qiskit', 'braket', 'pennylane', 'qibo'])"
      ]
     },
     "execution_count": 1,
     "metadata": {},
     "output_type": "execute_result"
    }
   ],
   "source": [
    "import mitiq\n",
    "mitiq.SUPPORTED_PROGRAM_TYPES.keys()"
   ]
  },
  {
   "cell_type": "code",
   "execution_count": 2,
   "id": "f95a20b9",
   "metadata": {},
   "outputs": [],
   "source": [
    "frontend = \"qiskit\""
   ]
  },
  {
   "cell_type": "code",
   "execution_count": 3,
   "id": "05002c0c",
   "metadata": {},
   "outputs": [
    {
     "name": "stdout",
     "output_type": "stream",
     "text": [
      "   ┌──────┐┌─────────┐┌─────────┐┌───────┐┌───┐┌────┐\n",
      "q: ┤ √Xdg ├┤ Ry(π/2) ├┤ Ry(π/2) ├┤ Rx(0) ├┤ Y ├┤ √X ├\n",
      "   └──────┘└─────────┘└─────────┘└───────┘└───┘└────┘\n"
     ]
    }
   ],
   "source": [
    "# define the circuit of interest\n",
    "from mitiq import benchmarks\n",
    "circuit = benchmarks.generate_rb_circuits(n_qubits=1, num_cliffords=2, return_type=frontend,)[0] #idealy identity\n",
    "# rb_circuits :randomized-benchmarking circuit \n",
    "#  num_cliffords is the number of random Clifford group elements and is proportional to the depth of the circuit.\n",
    "\n",
    "print(circuit)"
   ]
  },
  {
   "cell_type": "code",
   "execution_count": 4,
   "id": "88f64121",
   "metadata": {},
   "outputs": [],
   "source": [
    "# define an executor which simulates a backend with depolarizing noise and computes the survival probability of the 00 state.\n",
    "# we first convert the input circuit to the Mitiq internal representation (Cirq) and then simulate it.\n",
    "from cirq import DensityMatrixSimulator, depolarize\n",
    "from mitiq.interface import convert_to_mitiq\n",
    "\n",
    "def execute(circuit, noise_level=0.01):\n",
    "    \"\"\"Returns Tr[ρ |0⟩⟨0|] where ρ is the state prepared by the circuit\n",
    "    executed with depolarizing noise.\n",
    "    \"\"\"\n",
    "    # Replace with code based on your frontend and backend.\n",
    "    mitiq_circuit, _  = convert_to_mitiq(circuit) #  what is means(  , _  ) \n",
    "    # We add a simple noise model to simulate a noisy backend.\n",
    "    noisy_circuit = mitiq_circuit.with_noise(depolarize(p=noise_level))\n",
    "    rho = DensityMatrixSimulator().simulate(noisy_circuit).final_density_matrix\n",
    "    return rho[0, 0].real"
   ]
  },
  {
   "cell_type": "code",
   "execution_count": 5,
   "id": "9e2db8a3",
   "metadata": {},
   "outputs": [
    {
     "name": "stdout",
     "output_type": "stream",
     "text": [
      "Error without mitigation: 0.03869\n"
     ]
    }
   ],
   "source": [
    "# function execute can be used to evaluate noisy (unmitigated) expectation values.\n",
    "# Compute the expectation value of the |0⟩⟨0| observable.\n",
    "noisy_value = execute(circuit)\n",
    "ideal_value = execute(circuit, noise_level=0.0)  # noise_level=0.0 is it overwrite the defined value?\n",
    "print(f\"Error without mitigation: {abs(ideal_value - noisy_value) :.5f}\") # how it is written "
   ]
  },
  {
   "cell_type": "markdown",
   "id": "85dda13a",
   "metadata": {},
   "source": [
    "Applying PEC:\n",
    "-represent some or all of ideal gates as a linearcombinations of noisy gates(quasi-probability representations).In Mitiq, they correspond to OperationRepresentation objects.\n",
    "\n",
    "How can we obtain the quasi-probability representations that are appropriate for a given backend? \n",
    "\n",
    "\n",
    "    Case 1: The noise of the backend can be approximated by a simple noise model, such that quasi-probability representations can be analytically computed. For example, this is possible for depolarizing or amplitude damping noise.\n",
    "\n",
    "    Case 2: The noise of the backend is too complex and cannot be approximated by a simple noise model.\n",
    "\n",
    "\n",
    "\n",
    "Method for case 1: A simple noise model (e.g. depolarizing or amplitude damping) is typically characterized by a single noise_level parameter (or a few parameters) that can be experimentally estimated. Possible techniques for estimating the noise level are randomized-benchmarking experiments or calibration experiments. Often, gate error probabilities are reported by hardware vendors and can be used to obtain a good guess for the noise_level without running any experiments. Given the noise model and the noise_level, one can apply known analytical expressions to compute the quasi-probability representations of arbitrary gates.\n",
    "\n",
    "Method for case 2: Assuming an over-simplified noise model may be a bad approximation. In this case, the suggested approach is to perform the complete process tomography of a basis set of implementable noisy operations (e.g. the native gate set of the backend). One could also use gate set tomography (GST), a noise characterization technique which is robust to state-preparation and measurement errors. Given the superoperators of the noisy implementable operations, one can obtain the quasi-probability representations as solutions of numerical optimization problems. In Mitiq, this is possible through the find_optimal_representation() function.\n",
    "\n",
    "\n"
   ]
  },
  {
   "cell_type": "code",
   "execution_count": 6,
   "id": "0d484514",
   "metadata": {},
   "outputs": [
    {
     "name": "stdout",
     "output_type": "stream",
     "text": [
      "5 OperationRepresentation objects produced, assuming 1.0% depolarizing noise.\n"
     ]
    }
   ],
   "source": [
    "# the execute function simulates the effect of depolarizing noise of some fixed noise_level acting after each gate\n",
    "from mitiq.pec.representations.depolarizing import represent_operations_in_circuit_with_local_depolarizing_noise\n",
    "\n",
    "noise_level = 0.01 #same as defined in execute() function\n",
    "reps = represent_operations_in_circuit_with_local_depolarizing_noise(circuit, noise_level)\n",
    "print(f\"{len(reps)} OperationRepresentation objects produced, assuming {100 * noise_level}% depolarizing noise.\")"
   ]
  },
  {
   "cell_type": "code",
   "execution_count": 7,
   "id": "0c102614",
   "metadata": {},
   "outputs": [
    {
     "name": "stdout",
     "output_type": "stream",
     "text": [
      "q_0: ───Ry(0.5π)─── = 1.010*(q_0: ───Ry(0.5π)───)-0.003*(q_0: ───Ry(0.5π)───X───)-0.003*(q_0: ───Ry(0.5π)───Y───)-0.003*(q_0: ───Ry(0.5π)───Z───)\n"
     ]
    }
   ],
   "source": [
    "# print the first OperationRepresentation in reps, showing how an ideal gate can be expressed as a linear combination of noisy gates:\n",
    "print(reps[0])"
   ]
  },
  {
   "cell_type": "code",
   "execution_count": 8,
   "id": "17fd6fc6",
   "metadata": {},
   "outputs": [
    {
     "name": "stdout",
     "output_type": "stream",
     "text": [
      "Error without PEC: 0.03869\n",
      "Error with PEC:    0.01128\n"
     ]
    }
   ],
   "source": [
    "# For PEC to work properly, the noise model and the noise_level associated to the execute function must correspond to those used to compute the OperationRepresentation objects.\n",
    "\n",
    "# Once the necessary OperationRepresentations have been defined, probabilistic error cancellation can be applied through the execute_with_pec() function as follows:\n",
    "from mitiq import pec\n",
    "\n",
    "pec_value = pec.execute_with_pec(circuit, execute, representations=reps)\n",
    "\n",
    "print(f\"Error without PEC: {abs(ideal_value - noisy_value) :.5f}\")\n",
    "print(f\"Error with PEC:    {abs(ideal_value - pec_value) :.5f}\")"
   ]
  },
  {
   "cell_type": "code",
   "execution_count": null,
   "id": "08ee2a00",
   "metadata": {},
   "outputs": [],
   "source": []
  },
  {
   "cell_type": "code",
   "execution_count": 14,
   "id": "6d8e6958",
   "metadata": {},
   "outputs": [],
   "source": []
  },
  {
   "cell_type": "code",
   "execution_count": null,
   "id": "15948e3f",
   "metadata": {
    "scrolled": false
   },
   "outputs": [],
   "source": []
  },
  {
   "cell_type": "code",
   "execution_count": 1,
   "id": "8a4d83f7",
   "metadata": {},
   "outputs": [
    {
     "name": "stdout",
     "output_type": "stream",
     "text": [
      "Error w/o  Mitiq: 0.260\n",
      "Error w Mitiq:    0.071\n"
     ]
    }
   ],
   "source": [
    "import cirq\n",
    "from mitiq import zne, benchmarks\n",
    "\n",
    "\n",
    "def execute(circuit, noise_level=0.005):\n",
    "    \"\"\"Returns Tr[ρ |0⟩⟨0|] where ρ is the state prepared by the circuit\n",
    "    with depolarizing noise.\"\"\"\n",
    "    noisy_circuit = circuit.with_noise(cirq.depolarize(p=noise_level))\n",
    "    return (\n",
    "        cirq.DensityMatrixSimulator()\n",
    "        .simulate(noisy_circuit)\n",
    "        .final_density_matrix[0, 0]\n",
    "        .real\n",
    "    )\n",
    "\n",
    "\n",
    "circuit = benchmarks.generate_rb_circuits(n_qubits=1, num_cliffords=50)[0]\n",
    "\n",
    "true_value = execute(circuit, noise_level=0.0)      # Ideal quantum computer\n",
    "noisy_value = execute(circuit)                      # Noisy quantum computer\n",
    "zne_value = zne.execute_with_zne(circuit, execute)  # Noisy quantum computer + Mitiq\n",
    "\n",
    "print(f\"Error w/o  Mitiq: {abs((true_value - noisy_value) / true_value):.3f}\")\n",
    "print(f\"Error w Mitiq:    {abs((true_value - zne_value) / true_value):.3f}\")"
   ]
  },
  {
   "cell_type": "code",
   "execution_count": null,
   "id": "32a5c67f",
   "metadata": {},
   "outputs": [],
   "source": []
  },
  {
   "cell_type": "code",
   "execution_count": 12,
   "id": "90f94633",
   "metadata": {},
   "outputs": [],
   "source": [
    "import numpy as np\n",
    "import qiskit # Frontend library\n",
    "from mitiq import pec  # Probabilistic error cancellation module"
   ]
  },
  {
   "cell_type": "code",
   "execution_count": 13,
   "id": "aafce833",
   "metadata": {},
   "outputs": [
    {
     "name": "stdout",
     "output_type": "stream",
     "text": [
      "   ┌───┐\n",
      "q: ┤ H ├\n",
      "   └───┘\n",
      "   ┌───┐┌───┐\n",
      "q: ┤ H ├┤ X ├\n",
      "   └───┘└───┘\n",
      "   ┌───┐┌───┐\n",
      "q: ┤ H ├┤ Y ├\n",
      "   └───┘└───┘\n",
      "   ┌───┐┌───┐\n",
      "q: ┤ H ├┤ Z ├\n",
      "   └───┘└───┘\n"
     ]
    }
   ],
   "source": [
    "basis_circuit_h = qiskit.QuantumCircuit(1)\n",
    "basis_circuit_h.h(0)\n",
    "\n",
    "basis_circuit_hx = qiskit.QuantumCircuit(1)\n",
    "basis_circuit_hx.h(0)\n",
    "basis_circuit_hx.x(0)\n",
    "\n",
    "basis_circuit_hy = qiskit.QuantumCircuit(1)\n",
    "basis_circuit_hy.h(0)\n",
    "basis_circuit_hy.y(0)\n",
    "\n",
    "basis_circuit_hz = qiskit.QuantumCircuit(1)\n",
    "basis_circuit_hz.h(0)\n",
    "basis_circuit_hz.z(0)\n",
    "\n",
    "basis_circuits = [basis_circuit_h, basis_circuit_hx, basis_circuit_hy, basis_circuit_hz] \n",
    "\n",
    "for c in basis_circuits:\n",
    "    print(c)"
   ]
  },
  {
   "cell_type": "code",
   "execution_count": 14,
   "id": "1142d8fc",
   "metadata": {},
   "outputs": [
    {
     "name": "stdout",
     "output_type": "stream",
     "text": [
      "4 NoisyOperation objects defined.\n"
     ]
    }
   ],
   "source": [
    "from mitiq.pec.representations import local_depolarizing_kraus\n",
    "from mitiq.pec.channels import kraus_to_super\n",
    "\n",
    "# Compute depolarizing superoperator\n",
    "BASE_NOISE = 0.2\n",
    "depo_super = kraus_to_super(local_depolarizing_kraus(BASE_NOISE, num_qubits=1))\n",
    "\n",
    "# Define the superoperator matrix of each noisy operation\n",
    "super_matrices = [\n",
    "    depo_super @ kraus_to_super([qiskit.quantum_info.Operator(c).data]) \n",
    "    for c in basis_circuits\n",
    "]\n",
    "\n",
    "# Define NoisyOperation objects combining circuits with channel matrices\n",
    "noisy_operations = [\n",
    "    pec.NoisyOperation(circuit=c, channel_matrix=m)\n",
    "    for c, m in zip(basis_circuits, super_matrices)\n",
    "]\n",
    "\n",
    "print(f\"{len(noisy_operations)} NoisyOperation objects defined.\")"
   ]
  },
  {
   "cell_type": "code",
   "execution_count": 15,
   "id": "db8fe308",
   "metadata": {},
   "outputs": [
    {
     "name": "stdout",
     "output_type": "stream",
     "text": [
      "The ideal operation to expand in the noisy basis is:\n",
      "   ┌───┐\n",
      "q: ┤ H ├\n",
      "   └───┘\n"
     ]
    }
   ],
   "source": [
    "ideal_operation = qiskit.QuantumCircuit(1)\n",
    "ideal_operation.h(0)\n",
    "print(f\"The ideal operation to expand in the noisy basis is:\\n{ideal_operation}\")"
   ]
  },
  {
   "cell_type": "code",
   "execution_count": 16,
   "id": "6deca4b8",
   "metadata": {},
   "outputs": [
    {
     "name": "stdout",
     "output_type": "stream",
     "text": [
      "Optimal representation:\n",
      "q_0: ───H─── = 1.273*(   ┌───┐\n",
      "q: ┤ H ├\n",
      "   └───┘)-0.091*(   ┌───┐┌───┐\n",
      "q: ┤ H ├┤ X ├\n",
      "   └───┘└───┘)-0.091*(   ┌───┐┌───┐\n",
      "q: ┤ H ├┤ Y ├\n",
      "   └───┘└───┘)-0.091*(   ┌───┐┌───┐\n",
      "q: ┤ H ├┤ Z ├\n",
      "   └───┘└───┘)\n"
     ]
    }
   ],
   "source": [
    "from mitiq.pec.representations import find_optimal_representation\n",
    "\n",
    "h_rep = find_optimal_representation(ideal_operation, noisy_operations)\n",
    "print(f\"Optimal representation:\\n{h_rep}\")"
   ]
  },
  {
   "cell_type": "code",
   "execution_count": 17,
   "id": "96d37854",
   "metadata": {},
   "outputs": [],
   "source": [
    "# We assume to know the quasi-distribution\n",
    "quasi_dist = h_rep.coeffs\n",
    "\n",
    "# Manual definition of the OperationRepresentation\n",
    "manual_h_rep = pec.OperationRepresentation(\n",
    "    ideal=ideal_operation,\n",
    "    noisy_operations=noisy_operations,\n",
    "    coeffs=quasi_dist,\n",
    ")\n",
    "\n",
    "# Test that the manual definition is equivalent to h_rep\n",
    "assert manual_h_rep == h_rep"
   ]
  },
  {
   "cell_type": "code",
   "execution_count": 18,
   "id": "d5868904",
   "metadata": {},
   "outputs": [],
   "source": [
    "from mitiq.pec.representations.depolarizing import represent_operation_with_local_depolarizing_noise\n",
    "\n",
    "depolarizing_h_rep = represent_operation_with_local_depolarizing_noise(\n",
    "    ideal_operation,\n",
    "    noise_level=BASE_NOISE,\n",
    ")\n",
    "\n",
    "assert depolarizing_h_rep == h_rep"
   ]
  },
  {
   "cell_type": "code",
   "execution_count": 19,
   "id": "3aee77a5",
   "metadata": {},
   "outputs": [
    {
     "name": "stdout",
     "output_type": "stream",
     "text": [
      "rep_reg_0: ───H─── = 0.500*(         ┌───┐┌───┐\n",
      "rep_reg: ┤ H ├┤ X ├\n",
      "         └───┘└───┘)+0.500*(         ┌───┐┌───┐\n",
      "rep_reg: ┤ H ├┤ Z ├\n",
      "         └───┘└───┘)\n",
      "Using the same rep on a circuit with H gates acting on different qubits:\n",
      "      ┌───┐┌───┐\n",
      "q1_0: ┤ H ├┤ X ├\n",
      "      ├───┤├───┤\n",
      "q1_1: ┤ H ├┤ Z ├\n",
      "      └───┘└───┘\n"
     ]
    }
   ],
   "source": [
    "qreg = qiskit.QuantumRegister(2) \n",
    "circuit = qiskit.QuantumCircuit(qreg)\n",
    "circuit.h(0)\n",
    "circuit.h(1)\n",
    "\n",
    "# OperationRepresentation defined on different qubits\n",
    "rep_qreg = qiskit.QuantumRegister(1, \"rep_reg\") \n",
    "ideal_op = qiskit.QuantumCircuit(rep_qreg)\n",
    "ideal_op.h(rep_qreg)\n",
    "hxcircuit = qiskit.QuantumCircuit(rep_qreg)\n",
    "hxcircuit.h(0)\n",
    "hxcircuit.x(0)\n",
    "hzcircuit = qiskit.QuantumCircuit(rep_qreg)\n",
    "hzcircuit.h(0)\n",
    "hzcircuit.z(0)\n",
    "noisy_hxop = pec.NoisyOperation(hxcircuit)\n",
    "noisy_hzop = pec.NoisyOperation(hzcircuit)\n",
    "\n",
    "rep = pec.OperationRepresentation(\n",
    "    ideal=ideal_op,\n",
    "    noisy_operations=[noisy_hxop, noisy_hzop],\n",
    "    coeffs=[0.5, 0.5],\n",
    "    is_qubit_dependent=False,\n",
    ")\n",
    "print(rep)\n",
    "print(\"Using the same rep on a circuit with H gates acting on different qubits:\")\n",
    "sampled_circuits, _, _ = pec.sample_circuit(circuit, representations=[rep])\n",
    "print(*sampled_circuits)"
   ]
  },
  {
   "cell_type": "code",
   "execution_count": 20,
   "id": "95cf5dee",
   "metadata": {},
   "outputs": [
    {
     "name": "stdout",
     "output_type": "stream",
     "text": [
      "The sampled noisy operation is:    ┌───┐\n",
      "q: ┤ H ├\n",
      "   └───┘.\n",
      "The associated coefficient is 1.27273, whose sign is 1.\n"
     ]
    }
   ],
   "source": [
    "noisy_op, sign, coeff = h_rep.sample()\n",
    "print(f\"The sampled noisy operation is: {noisy_op}.\")\n",
    "print(f\"The associated coefficient is {coeff:g}, whose sign is {sign}.\")"
   ]
  },
  {
   "cell_type": "code",
   "execution_count": null,
   "id": "ebe7dff3",
   "metadata": {},
   "outputs": [],
   "source": []
  }
 ],
 "metadata": {
  "kernelspec": {
   "display_name": "Python 3 (ipykernel)",
   "language": "python",
   "name": "python3"
  },
  "language_info": {
   "codemirror_mode": {
    "name": "ipython",
    "version": 3
   },
   "file_extension": ".py",
   "mimetype": "text/x-python",
   "name": "python",
   "nbconvert_exporter": "python",
   "pygments_lexer": "ipython3",
   "version": "3.11.0"
  }
 },
 "nbformat": 4,
 "nbformat_minor": 5
}
