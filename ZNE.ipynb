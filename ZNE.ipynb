{
  "nbformat": 4,
  "nbformat_minor": 0,
  "metadata": {
    "colab": {
      "provenance": [],
      "authorship_tag": "ABX9TyOyU2qPreFBVFXq9UTW2BDT",
      "include_colab_link": true
    },
    "kernelspec": {
      "name": "python3",
      "display_name": "Python 3"
    },
    "language_info": {
      "name": "python"
    }
  },
  "cells": [
    {
      "cell_type": "markdown",
      "metadata": {
        "id": "view-in-github",
        "colab_type": "text"
      },
      "source": [
        "<a href=\"https://colab.research.google.com/github/gachchami/qmitra/blob/ZNE/ZNE_tutorials.ipynb\" target=\"_parent\"><img src=\"https://colab.research.google.com/assets/colab-badge.svg\" alt=\"Open In Colab\"/></a>"
      ]
    },
    {
      "cell_type": "code",
      "execution_count": 1,
      "metadata": {
        "id": "B8uZ6_eShFv_",
        "colab": {
          "base_uri": "https://localhost:8080/"
        },
        "outputId": "04125773-3adf-402f-d927-93a74d3b279e"
      },
      "outputs": [
        {
          "output_type": "stream",
          "name": "stdout",
          "text": [
            "Collecting cirq\n",
            "  Downloading cirq-1.3.0-py3-none-any.whl (8.1 kB)\n",
            "Collecting cirq-aqt==1.3.0 (from cirq)\n",
            "  Downloading cirq_aqt-1.3.0-py3-none-any.whl (27 kB)\n",
            "Collecting cirq-core==1.3.0 (from cirq)\n",
            "  Downloading cirq_core-1.3.0-py3-none-any.whl (1.8 MB)\n",
            "\u001b[2K     \u001b[90m━━━━━━━━━━━━━━━━━━━━━━━━━━━━━━━━━━━━━━━━\u001b[0m \u001b[32m1.8/1.8 MB\u001b[0m \u001b[31m17.9 MB/s\u001b[0m eta \u001b[36m0:00:00\u001b[0m\n",
            "\u001b[?25hCollecting cirq-ft==1.3.0 (from cirq)\n",
            "  Downloading cirq_ft-1.3.0-py3-none-any.whl (143 kB)\n",
            "\u001b[2K     \u001b[90m━━━━━━━━━━━━━━━━━━━━━━━━━━━━━━━━━━━━━━━━\u001b[0m \u001b[32m143.1/143.1 kB\u001b[0m \u001b[31m12.2 MB/s\u001b[0m eta \u001b[36m0:00:00\u001b[0m\n",
            "\u001b[?25hCollecting cirq-google==1.3.0 (from cirq)\n",
            "  Downloading cirq_google-1.3.0-py3-none-any.whl (598 kB)\n",
            "\u001b[2K     \u001b[90m━━━━━━━━━━━━━━━━━━━━━━━━━━━━━━━━━━━━━━━━\u001b[0m \u001b[32m598.8/598.8 kB\u001b[0m \u001b[31m4.9 MB/s\u001b[0m eta \u001b[36m0:00:00\u001b[0m\n",
            "\u001b[?25hCollecting cirq-ionq==1.3.0 (from cirq)\n",
            "  Downloading cirq_ionq-1.3.0-py3-none-any.whl (60 kB)\n",
            "\u001b[2K     \u001b[90m━━━━━━━━━━━━━━━━━━━━━━━━━━━━━━━━━━━━━━━━\u001b[0m \u001b[32m60.9/60.9 kB\u001b[0m \u001b[31m1.3 MB/s\u001b[0m eta \u001b[36m0:00:00\u001b[0m\n",
            "\u001b[?25hCollecting cirq-pasqal==1.3.0 (from cirq)\n",
            "  Downloading cirq_pasqal-1.3.0-py3-none-any.whl (31 kB)\n",
            "Collecting cirq-rigetti==1.3.0 (from cirq)\n",
            "  Downloading cirq_rigetti-1.3.0-py3-none-any.whl (66 kB)\n",
            "\u001b[2K     \u001b[90m━━━━━━━━━━━━━━━━━━━━━━━━━━━━━━━━━━━━━━━━\u001b[0m \u001b[32m66.2/66.2 kB\u001b[0m \u001b[31m6.2 MB/s\u001b[0m eta \u001b[36m0:00:00\u001b[0m\n",
            "\u001b[?25hCollecting cirq-web==1.3.0 (from cirq)\n",
            "  Downloading cirq_web-1.3.0-py3-none-any.whl (596 kB)\n",
            "\u001b[2K     \u001b[90m━━━━━━━━━━━━━━━━━━━━━━━━━━━━━━━━━━━━━━━━\u001b[0m \u001b[32m596.5/596.5 kB\u001b[0m \u001b[31m51.7 MB/s\u001b[0m eta \u001b[36m0:00:00\u001b[0m\n",
            "\u001b[?25hRequirement already satisfied: requests~=2.18 in /usr/local/lib/python3.10/dist-packages (from cirq-aqt==1.3.0->cirq) (2.31.0)\n",
            "Collecting duet~=0.2.8 (from cirq-core==1.3.0->cirq)\n",
            "  Downloading duet-0.2.9-py3-none-any.whl (29 kB)\n",
            "Requirement already satisfied: matplotlib~=3.0 in /usr/local/lib/python3.10/dist-packages (from cirq-core==1.3.0->cirq) (3.7.1)\n",
            "Requirement already satisfied: networkx>=2.4 in /usr/local/lib/python3.10/dist-packages (from cirq-core==1.3.0->cirq) (3.2.1)\n",
            "Requirement already satisfied: numpy~=1.16 in /usr/local/lib/python3.10/dist-packages (from cirq-core==1.3.0->cirq) (1.25.2)\n",
            "Requirement already satisfied: pandas in /usr/local/lib/python3.10/dist-packages (from cirq-core==1.3.0->cirq) (1.5.3)\n",
            "Requirement already satisfied: sortedcontainers~=2.0 in /usr/local/lib/python3.10/dist-packages (from cirq-core==1.3.0->cirq) (2.4.0)\n",
            "Requirement already satisfied: scipy in /usr/local/lib/python3.10/dist-packages (from cirq-core==1.3.0->cirq) (1.11.4)\n",
            "Requirement already satisfied: sympy in /usr/local/lib/python3.10/dist-packages (from cirq-core==1.3.0->cirq) (1.12)\n",
            "Requirement already satisfied: typing-extensions>=4.2 in /usr/local/lib/python3.10/dist-packages (from cirq-core==1.3.0->cirq) (4.10.0)\n",
            "Requirement already satisfied: tqdm in /usr/local/lib/python3.10/dist-packages (from cirq-core==1.3.0->cirq) (4.66.2)\n",
            "Requirement already satisfied: attrs in /usr/local/lib/python3.10/dist-packages (from cirq-ft==1.3.0->cirq) (23.2.0)\n",
            "Requirement already satisfied: cachetools>=5.3 in /usr/local/lib/python3.10/dist-packages (from cirq-ft==1.3.0->cirq) (5.3.3)\n",
            "Requirement already satisfied: ipywidgets in /usr/local/lib/python3.10/dist-packages (from cirq-ft==1.3.0->cirq) (7.7.1)\n",
            "Requirement already satisfied: nbconvert in /usr/local/lib/python3.10/dist-packages (from cirq-ft==1.3.0->cirq) (6.5.4)\n",
            "Requirement already satisfied: nbformat in /usr/local/lib/python3.10/dist-packages (from cirq-ft==1.3.0->cirq) (5.10.3)\n",
            "Requirement already satisfied: google-api-core[grpc]>=1.14.0 in /usr/local/lib/python3.10/dist-packages (from cirq-google==1.3.0->cirq) (2.11.1)\n",
            "Requirement already satisfied: proto-plus>=1.20.0 in /usr/local/lib/python3.10/dist-packages (from cirq-google==1.3.0->cirq) (1.23.0)\n",
            "Requirement already satisfied: protobuf>=3.15.0 in /usr/local/lib/python3.10/dist-packages (from cirq-google==1.3.0->cirq) (3.20.3)\n",
            "Collecting pyquil<4.0.0,>=3.2.0 (from cirq-rigetti==1.3.0->cirq)\n",
            "  Downloading pyquil-3.5.4-py3-none-any.whl (223 kB)\n",
            "\u001b[2K     \u001b[90m━━━━━━━━━━━━━━━━━━━━━━━━━━━━━━━━━━━━━━━━\u001b[0m \u001b[32m223.8/223.8 kB\u001b[0m \u001b[31m22.7 MB/s\u001b[0m eta \u001b[36m0:00:00\u001b[0m\n",
            "\u001b[?25hRequirement already satisfied: googleapis-common-protos<2.0.dev0,>=1.56.2 in /usr/local/lib/python3.10/dist-packages (from google-api-core[grpc]>=1.14.0->cirq-google==1.3.0->cirq) (1.63.0)\n",
            "Requirement already satisfied: google-auth<3.0.dev0,>=2.14.1 in /usr/local/lib/python3.10/dist-packages (from google-api-core[grpc]>=1.14.0->cirq-google==1.3.0->cirq) (2.27.0)\n",
            "Requirement already satisfied: grpcio<2.0dev,>=1.33.2 in /usr/local/lib/python3.10/dist-packages (from google-api-core[grpc]>=1.14.0->cirq-google==1.3.0->cirq) (1.62.1)\n",
            "Requirement already satisfied: grpcio-status<2.0.dev0,>=1.33.2 in /usr/local/lib/python3.10/dist-packages (from google-api-core[grpc]>=1.14.0->cirq-google==1.3.0->cirq) (1.48.2)\n",
            "Requirement already satisfied: contourpy>=1.0.1 in /usr/local/lib/python3.10/dist-packages (from matplotlib~=3.0->cirq-core==1.3.0->cirq) (1.2.0)\n",
            "Requirement already satisfied: cycler>=0.10 in /usr/local/lib/python3.10/dist-packages (from matplotlib~=3.0->cirq-core==1.3.0->cirq) (0.12.1)\n",
            "Requirement already satisfied: fonttools>=4.22.0 in /usr/local/lib/python3.10/dist-packages (from matplotlib~=3.0->cirq-core==1.3.0->cirq) (4.50.0)\n",
            "Requirement already satisfied: kiwisolver>=1.0.1 in /usr/local/lib/python3.10/dist-packages (from matplotlib~=3.0->cirq-core==1.3.0->cirq) (1.4.5)\n",
            "Requirement already satisfied: packaging>=20.0 in /usr/local/lib/python3.10/dist-packages (from matplotlib~=3.0->cirq-core==1.3.0->cirq) (24.0)\n",
            "Requirement already satisfied: pillow>=6.2.0 in /usr/local/lib/python3.10/dist-packages (from matplotlib~=3.0->cirq-core==1.3.0->cirq) (9.4.0)\n",
            "Requirement already satisfied: pyparsing>=2.3.1 in /usr/local/lib/python3.10/dist-packages (from matplotlib~=3.0->cirq-core==1.3.0->cirq) (3.1.2)\n",
            "Requirement already satisfied: python-dateutil>=2.7 in /usr/local/lib/python3.10/dist-packages (from matplotlib~=3.0->cirq-core==1.3.0->cirq) (2.8.2)\n",
            "Collecting deprecated<2.0.0,>=1.2.13 (from pyquil<4.0.0,>=3.2.0->cirq-rigetti==1.3.0->cirq)\n",
            "  Downloading Deprecated-1.2.14-py2.py3-none-any.whl (9.6 kB)\n",
            "Collecting lark<0.12.0,>=0.11.1 (from pyquil<4.0.0,>=3.2.0->cirq-rigetti==1.3.0->cirq)\n",
            "  Downloading lark-0.11.3.tar.gz (229 kB)\n",
            "\u001b[2K     \u001b[90m━━━━━━━━━━━━━━━━━━━━━━━━━━━━━━━━━━━━━━━━\u001b[0m \u001b[32m229.9/229.9 kB\u001b[0m \u001b[31m28.2 MB/s\u001b[0m eta \u001b[36m0:00:00\u001b[0m\n",
            "\u001b[?25h  Preparing metadata (setup.py) ... \u001b[?25l\u001b[?25hdone\n",
            "Collecting qcs-api-client<0.22.0,>=0.21.0 (from pyquil<4.0.0,>=3.2.0->cirq-rigetti==1.3.0->cirq)\n",
            "  Downloading qcs_api_client-0.21.6-py3-none-any.whl (151 kB)\n",
            "\u001b[2K     \u001b[90m━━━━━━━━━━━━━━━━━━━━━━━━━━━━━━━━━━━━━━━━\u001b[0m \u001b[32m151.7/151.7 kB\u001b[0m \u001b[31m20.3 MB/s\u001b[0m eta \u001b[36m0:00:00\u001b[0m\n",
            "\u001b[?25hCollecting rpcq<4.0.0,>=3.10.0 (from pyquil<4.0.0,>=3.2.0->cirq-rigetti==1.3.0->cirq)\n",
            "  Downloading rpcq-3.11.0.tar.gz (45 kB)\n",
            "\u001b[2K     \u001b[90m━━━━━━━━━━━━━━━━━━━━━━━━━━━━━━━━━━━━━━━━\u001b[0m \u001b[32m45.6/45.6 kB\u001b[0m \u001b[31m6.0 MB/s\u001b[0m eta \u001b[36m0:00:00\u001b[0m\n",
            "\u001b[?25h  Preparing metadata (setup.py) ... \u001b[?25l\u001b[?25hdone\n",
            "Requirement already satisfied: tenacity<9.0.0,>=8.2.2 in /usr/local/lib/python3.10/dist-packages (from pyquil<4.0.0,>=3.2.0->cirq-rigetti==1.3.0->cirq) (8.2.3)\n",
            "Collecting types-deprecated<2.0.0.0,>=1.2.9.2 (from pyquil<4.0.0,>=3.2.0->cirq-rigetti==1.3.0->cirq)\n",
            "  Downloading types_Deprecated-1.2.9.20240311-py3-none-any.whl (3.5 kB)\n",
            "Collecting types-python-dateutil<3.0.0,>=2.8.19 (from pyquil<4.0.0,>=3.2.0->cirq-rigetti==1.3.0->cirq)\n",
            "  Downloading types_python_dateutil-2.9.0.20240316-py3-none-any.whl (9.7 kB)\n",
            "Collecting types-retry<0.10.0,>=0.9.9 (from pyquil<4.0.0,>=3.2.0->cirq-rigetti==1.3.0->cirq)\n",
            "  Downloading types_retry-0.9.9.4-py3-none-any.whl (2.5 kB)\n",
            "Requirement already satisfied: charset-normalizer<4,>=2 in /usr/local/lib/python3.10/dist-packages (from requests~=2.18->cirq-aqt==1.3.0->cirq) (3.3.2)\n",
            "Requirement already satisfied: idna<4,>=2.5 in /usr/local/lib/python3.10/dist-packages (from requests~=2.18->cirq-aqt==1.3.0->cirq) (3.6)\n",
            "Requirement already satisfied: urllib3<3,>=1.21.1 in /usr/local/lib/python3.10/dist-packages (from requests~=2.18->cirq-aqt==1.3.0->cirq) (2.0.7)\n",
            "Requirement already satisfied: certifi>=2017.4.17 in /usr/local/lib/python3.10/dist-packages (from requests~=2.18->cirq-aqt==1.3.0->cirq) (2024.2.2)\n",
            "Requirement already satisfied: ipykernel>=4.5.1 in /usr/local/lib/python3.10/dist-packages (from ipywidgets->cirq-ft==1.3.0->cirq) (5.5.6)\n",
            "Requirement already satisfied: ipython-genutils~=0.2.0 in /usr/local/lib/python3.10/dist-packages (from ipywidgets->cirq-ft==1.3.0->cirq) (0.2.0)\n",
            "Requirement already satisfied: traitlets>=4.3.1 in /usr/local/lib/python3.10/dist-packages (from ipywidgets->cirq-ft==1.3.0->cirq) (5.7.1)\n",
            "Requirement already satisfied: widgetsnbextension~=3.6.0 in /usr/local/lib/python3.10/dist-packages (from ipywidgets->cirq-ft==1.3.0->cirq) (3.6.6)\n",
            "Requirement already satisfied: ipython>=4.0.0 in /usr/local/lib/python3.10/dist-packages (from ipywidgets->cirq-ft==1.3.0->cirq) (7.34.0)\n",
            "Requirement already satisfied: jupyterlab-widgets>=1.0.0 in /usr/local/lib/python3.10/dist-packages (from ipywidgets->cirq-ft==1.3.0->cirq) (3.0.10)\n",
            "Requirement already satisfied: lxml in /usr/local/lib/python3.10/dist-packages (from nbconvert->cirq-ft==1.3.0->cirq) (4.9.4)\n",
            "Requirement already satisfied: beautifulsoup4 in /usr/local/lib/python3.10/dist-packages (from nbconvert->cirq-ft==1.3.0->cirq) (4.12.3)\n",
            "Requirement already satisfied: bleach in /usr/local/lib/python3.10/dist-packages (from nbconvert->cirq-ft==1.3.0->cirq) (6.1.0)\n",
            "Requirement already satisfied: defusedxml in /usr/local/lib/python3.10/dist-packages (from nbconvert->cirq-ft==1.3.0->cirq) (0.7.1)\n",
            "Requirement already satisfied: entrypoints>=0.2.2 in /usr/local/lib/python3.10/dist-packages (from nbconvert->cirq-ft==1.3.0->cirq) (0.4)\n",
            "Requirement already satisfied: jinja2>=3.0 in /usr/local/lib/python3.10/dist-packages (from nbconvert->cirq-ft==1.3.0->cirq) (3.1.3)\n",
            "Requirement already satisfied: jupyter-core>=4.7 in /usr/local/lib/python3.10/dist-packages (from nbconvert->cirq-ft==1.3.0->cirq) (5.7.2)\n",
            "Requirement already satisfied: jupyterlab-pygments in /usr/local/lib/python3.10/dist-packages (from nbconvert->cirq-ft==1.3.0->cirq) (0.3.0)\n",
            "Requirement already satisfied: MarkupSafe>=2.0 in /usr/local/lib/python3.10/dist-packages (from nbconvert->cirq-ft==1.3.0->cirq) (2.1.5)\n",
            "Requirement already satisfied: mistune<2,>=0.8.1 in /usr/local/lib/python3.10/dist-packages (from nbconvert->cirq-ft==1.3.0->cirq) (0.8.4)\n",
            "Requirement already satisfied: nbclient>=0.5.0 in /usr/local/lib/python3.10/dist-packages (from nbconvert->cirq-ft==1.3.0->cirq) (0.10.0)\n",
            "Requirement already satisfied: pandocfilters>=1.4.1 in /usr/local/lib/python3.10/dist-packages (from nbconvert->cirq-ft==1.3.0->cirq) (1.5.1)\n",
            "Requirement already satisfied: pygments>=2.4.1 in /usr/local/lib/python3.10/dist-packages (from nbconvert->cirq-ft==1.3.0->cirq) (2.16.1)\n",
            "Requirement already satisfied: tinycss2 in /usr/local/lib/python3.10/dist-packages (from nbconvert->cirq-ft==1.3.0->cirq) (1.2.1)\n",
            "Requirement already satisfied: fastjsonschema in /usr/local/lib/python3.10/dist-packages (from nbformat->cirq-ft==1.3.0->cirq) (2.19.1)\n",
            "Requirement already satisfied: jsonschema>=2.6 in /usr/local/lib/python3.10/dist-packages (from nbformat->cirq-ft==1.3.0->cirq) (4.19.2)\n",
            "Requirement already satisfied: pytz>=2020.1 in /usr/local/lib/python3.10/dist-packages (from pandas->cirq-core==1.3.0->cirq) (2023.4)\n",
            "Requirement already satisfied: mpmath>=0.19 in /usr/local/lib/python3.10/dist-packages (from sympy->cirq-core==1.3.0->cirq) (1.3.0)\n",
            "Requirement already satisfied: wrapt<2,>=1.10 in /usr/local/lib/python3.10/dist-packages (from deprecated<2.0.0,>=1.2.13->pyquil<4.0.0,>=3.2.0->cirq-rigetti==1.3.0->cirq) (1.14.1)\n",
            "Requirement already satisfied: pyasn1-modules>=0.2.1 in /usr/local/lib/python3.10/dist-packages (from google-auth<3.0.dev0,>=2.14.1->google-api-core[grpc]>=1.14.0->cirq-google==1.3.0->cirq) (0.4.0)\n",
            "Requirement already satisfied: rsa<5,>=3.1.4 in /usr/local/lib/python3.10/dist-packages (from google-auth<3.0.dev0,>=2.14.1->google-api-core[grpc]>=1.14.0->cirq-google==1.3.0->cirq) (4.9)\n",
            "Requirement already satisfied: jupyter-client in /usr/local/lib/python3.10/dist-packages (from ipykernel>=4.5.1->ipywidgets->cirq-ft==1.3.0->cirq) (6.1.12)\n",
            "Requirement already satisfied: tornado>=4.2 in /usr/local/lib/python3.10/dist-packages (from ipykernel>=4.5.1->ipywidgets->cirq-ft==1.3.0->cirq) (6.3.3)\n",
            "Requirement already satisfied: setuptools>=18.5 in /usr/local/lib/python3.10/dist-packages (from ipython>=4.0.0->ipywidgets->cirq-ft==1.3.0->cirq) (67.7.2)\n",
            "Collecting jedi>=0.16 (from ipython>=4.0.0->ipywidgets->cirq-ft==1.3.0->cirq)\n",
            "  Downloading jedi-0.19.1-py2.py3-none-any.whl (1.6 MB)\n",
            "\u001b[2K     \u001b[90m━━━━━━━━━━━━━━━━━━━━━━━━━━━━━━━━━━━━━━━━\u001b[0m \u001b[32m1.6/1.6 MB\u001b[0m \u001b[31m70.7 MB/s\u001b[0m eta \u001b[36m0:00:00\u001b[0m\n",
            "\u001b[?25hRequirement already satisfied: decorator in /usr/local/lib/python3.10/dist-packages (from ipython>=4.0.0->ipywidgets->cirq-ft==1.3.0->cirq) (4.4.2)\n",
            "Requirement already satisfied: pickleshare in /usr/local/lib/python3.10/dist-packages (from ipython>=4.0.0->ipywidgets->cirq-ft==1.3.0->cirq) (0.7.5)\n",
            "Requirement already satisfied: prompt-toolkit!=3.0.0,!=3.0.1,<3.1.0,>=2.0.0 in /usr/local/lib/python3.10/dist-packages (from ipython>=4.0.0->ipywidgets->cirq-ft==1.3.0->cirq) (3.0.43)\n",
            "Requirement already satisfied: backcall in /usr/local/lib/python3.10/dist-packages (from ipython>=4.0.0->ipywidgets->cirq-ft==1.3.0->cirq) (0.2.0)\n",
            "Requirement already satisfied: matplotlib-inline in /usr/local/lib/python3.10/dist-packages (from ipython>=4.0.0->ipywidgets->cirq-ft==1.3.0->cirq) (0.1.6)\n",
            "Requirement already satisfied: pexpect>4.3 in /usr/local/lib/python3.10/dist-packages (from ipython>=4.0.0->ipywidgets->cirq-ft==1.3.0->cirq) (4.9.0)\n",
            "Requirement already satisfied: jsonschema-specifications>=2023.03.6 in /usr/local/lib/python3.10/dist-packages (from jsonschema>=2.6->nbformat->cirq-ft==1.3.0->cirq) (2023.12.1)\n",
            "Requirement already satisfied: referencing>=0.28.4 in /usr/local/lib/python3.10/dist-packages (from jsonschema>=2.6->nbformat->cirq-ft==1.3.0->cirq) (0.34.0)\n",
            "Requirement already satisfied: rpds-py>=0.7.1 in /usr/local/lib/python3.10/dist-packages (from jsonschema>=2.6->nbformat->cirq-ft==1.3.0->cirq) (0.18.0)\n",
            "Requirement already satisfied: platformdirs>=2.5 in /usr/local/lib/python3.10/dist-packages (from jupyter-core>=4.7->nbconvert->cirq-ft==1.3.0->cirq) (4.2.0)\n",
            "Requirement already satisfied: six>=1.5 in /usr/local/lib/python3.10/dist-packages (from python-dateutil>=2.7->matplotlib~=3.0->cirq-core==1.3.0->cirq) (1.16.0)\n",
            "Collecting PyJWT<3.0.0,>=2.4.0 (from qcs-api-client<0.22.0,>=0.21.0->pyquil<4.0.0,>=3.2.0->cirq-rigetti==1.3.0->cirq)\n",
            "  Downloading PyJWT-2.8.0-py3-none-any.whl (22 kB)\n",
            "INFO: pip is looking at multiple versions of qcs-api-client to determine which version is compatible with other requirements. This could take a while.\n",
            "Collecting qcs-api-client<0.22.0,>=0.21.0 (from pyquil<4.0.0,>=3.2.0->cirq-rigetti==1.3.0->cirq)\n",
            "  Downloading qcs_api_client-0.21.5-py3-none-any.whl (151 kB)\n",
            "\u001b[2K     \u001b[90m━━━━━━━━━━━━━━━━━━━━━━━━━━━━━━━━━━━━━━━━\u001b[0m \u001b[32m151.7/151.7 kB\u001b[0m \u001b[31m18.1 MB/s\u001b[0m eta \u001b[36m0:00:00\u001b[0m\n",
            "\u001b[?25h  Downloading qcs_api_client-0.21.4-py3-none-any.whl (151 kB)\n",
            "\u001b[2K     \u001b[90m━━━━━━━━━━━━━━━━━━━━━━━━━━━━━━━━━━━━━━━━\u001b[0m \u001b[32m151.7/151.7 kB\u001b[0m \u001b[31m19.5 MB/s\u001b[0m eta \u001b[36m0:00:00\u001b[0m\n",
            "\u001b[?25h  Downloading qcs_api_client-0.21.3-py3-none-any.whl (147 kB)\n",
            "\u001b[2K     \u001b[90m━━━━━━━━━━━━━━━━━━━━━━━━━━━━━━━━━━━━━━━━\u001b[0m \u001b[32m147.4/147.4 kB\u001b[0m \u001b[31m19.1 MB/s\u001b[0m eta \u001b[36m0:00:00\u001b[0m\n",
            "\u001b[?25h  Downloading qcs_api_client-0.21.2-py3-none-any.whl (147 kB)\n",
            "\u001b[2K     \u001b[90m━━━━━━━━━━━━━━━━━━━━━━━━━━━━━━━━━━━━━━━━\u001b[0m \u001b[32m147.4/147.4 kB\u001b[0m \u001b[31m19.0 MB/s\u001b[0m eta \u001b[36m0:00:00\u001b[0m\n",
            "\u001b[?25h  Downloading qcs_api_client-0.21.1-py3-none-any.whl (147 kB)\n",
            "\u001b[2K     \u001b[90m━━━━━━━━━━━━━━━━━━━━━━━━━━━━━━━━━━━━━━━━\u001b[0m \u001b[32m147.4/147.4 kB\u001b[0m \u001b[31m19.3 MB/s\u001b[0m eta \u001b[36m0:00:00\u001b[0m\n",
            "\u001b[?25h  Downloading qcs_api_client-0.21.0-py3-none-any.whl (142 kB)\n",
            "\u001b[2K     \u001b[90m━━━━━━━━━━━━━━━━━━━━━━━━━━━━━━━━━━━━━━━━\u001b[0m \u001b[32m142.7/142.7 kB\u001b[0m \u001b[31m19.8 MB/s\u001b[0m eta \u001b[36m0:00:00\u001b[0m\n",
            "\u001b[?25hCollecting jsonschema>=2.6 (from nbformat->cirq-ft==1.3.0->cirq)\n",
            "  Downloading jsonschema-4.21.1-py3-none-any.whl (85 kB)\n",
            "\u001b[2K     \u001b[90m━━━━━━━━━━━━━━━━━━━━━━━━━━━━━━━━━━━━━━━━\u001b[0m \u001b[32m85.5/85.5 kB\u001b[0m \u001b[31m11.6 MB/s\u001b[0m eta \u001b[36m0:00:00\u001b[0m\n",
            "\u001b[?25hINFO: pip is looking at multiple versions of qcs-api-client to determine which version is compatible with other requirements. This could take a while.\n",
            "INFO: This is taking longer than usual. You might need to provide the dependency resolver with stricter constraints to reduce runtime. See https://pip.pypa.io/warnings/backtracking for guidance. If you want to abort this run, press Ctrl + C.\n",
            "  Downloading jsonschema-4.21.0-py3-none-any.whl (85 kB)\n",
            "\u001b[2K     \u001b[90m━━━━━━━━━━━━━━━━━━━━━━━━━━━━━━━━━━━━━━━━\u001b[0m \u001b[32m85.1/85.1 kB\u001b[0m \u001b[31m11.9 MB/s\u001b[0m eta \u001b[36m0:00:00\u001b[0m\n",
            "\u001b[?25h  Downloading jsonschema-4.20.0-py3-none-any.whl (84 kB)\n",
            "\u001b[2K     \u001b[90m━━━━━━━━━━━━━━━━━━━━━━━━━━━━━━━━━━━━━━━━\u001b[0m \u001b[32m84.7/84.7 kB\u001b[0m \u001b[31m11.8 MB/s\u001b[0m eta \u001b[36m0:00:00\u001b[0m\n",
            "\u001b[?25h  Downloading jsonschema-4.19.2-py3-none-any.whl (83 kB)\n",
            "\u001b[2K     \u001b[90m━━━━━━━━━━━━━━━━━━━━━━━━━━━━━━━━━━━━━━━━\u001b[0m \u001b[32m83.6/83.6 kB\u001b[0m \u001b[31m11.7 MB/s\u001b[0m eta \u001b[36m0:00:00\u001b[0m\n",
            "\u001b[?25h  Downloading jsonschema-4.19.1-py3-none-any.whl (83 kB)\n",
            "\u001b[2K     \u001b[90m━━━━━━━━━━━━━━━━━━━━━━━━━━━━━━━━━━━━━━━━\u001b[0m \u001b[32m83.3/83.3 kB\u001b[0m \u001b[31m11.6 MB/s\u001b[0m eta \u001b[36m0:00:00\u001b[0m\n",
            "\u001b[?25h  Downloading jsonschema-4.19.0-py3-none-any.whl (83 kB)\n",
            "\u001b[2K     \u001b[90m━━━━━━━━━━━━━━━━━━━━━━━━━━━━━━━━━━━━━━━━\u001b[0m \u001b[32m83.4/83.4 kB\u001b[0m \u001b[31m11.9 MB/s\u001b[0m eta \u001b[36m0:00:00\u001b[0m\n",
            "\u001b[?25h  Downloading jsonschema-4.18.6-py3-none-any.whl (83 kB)\n",
            "\u001b[2K     \u001b[90m━━━━━━━━━━━━━━━━━━━━━━━━━━━━━━━━━━━━━━━━\u001b[0m \u001b[32m83.2/83.2 kB\u001b[0m \u001b[31m10.9 MB/s\u001b[0m eta \u001b[36m0:00:00\u001b[0m\n",
            "\u001b[?25h  Downloading jsonschema-4.18.5-py3-none-any.whl (82 kB)\n",
            "\u001b[2K     \u001b[90m━━━━━━━━━━━━━━━━━━━━━━━━━━━━━━━━━━━━━━━━\u001b[0m \u001b[32m82.5/82.5 kB\u001b[0m \u001b[31m12.4 MB/s\u001b[0m eta \u001b[36m0:00:00\u001b[0m\n",
            "\u001b[?25h  Downloading jsonschema-4.18.4-py3-none-any.whl (80 kB)\n",
            "\u001b[2K     \u001b[90m━━━━━━━━━━━━━━━━━━━━━━━━━━━━━━━━━━━━━━━━\u001b[0m \u001b[32m81.0/81.0 kB\u001b[0m \u001b[31m11.1 MB/s\u001b[0m eta \u001b[36m0:00:00\u001b[0m\n",
            "\u001b[?25h  Downloading jsonschema-4.18.3-py3-none-any.whl (80 kB)\n",
            "\u001b[2K     \u001b[90m━━━━━━━━━━━━━━━━━━━━━━━━━━━━━━━━━━━━━━━━\u001b[0m \u001b[32m81.0/81.0 kB\u001b[0m \u001b[31m11.6 MB/s\u001b[0m eta \u001b[36m0:00:00\u001b[0m\n",
            "\u001b[?25h  Downloading jsonschema-4.18.2-py3-none-any.whl (80 kB)\n",
            "\u001b[2K     \u001b[90m━━━━━━━━━━━━━━━━━━━━━━━━━━━━━━━━━━━━━━━━\u001b[0m \u001b[32m80.8/80.8 kB\u001b[0m \u001b[31m12.1 MB/s\u001b[0m eta \u001b[36m0:00:00\u001b[0m\n",
            "\u001b[?25h  Downloading jsonschema-4.18.1-py3-none-any.whl (80 kB)\n",
            "\u001b[2K     \u001b[90m━━━━━━━━━━━━━━━━━━━━━━━━━━━━━━━━━━━━━━━━\u001b[0m \u001b[32m80.7/80.7 kB\u001b[0m \u001b[31m11.5 MB/s\u001b[0m eta \u001b[36m0:00:00\u001b[0m\n",
            "\u001b[?25h  Downloading jsonschema-4.18.0-py3-none-any.whl (81 kB)\n",
            "\u001b[2K     \u001b[90m━━━━━━━━━━━━━━━━━━━━━━━━━━━━━━━━━━━━━━━━\u001b[0m \u001b[32m81.5/81.5 kB\u001b[0m \u001b[31m11.5 MB/s\u001b[0m eta \u001b[36m0:00:00\u001b[0m\n",
            "\u001b[?25h  Downloading jsonschema-4.17.3-py3-none-any.whl (90 kB)\n",
            "\u001b[2K     \u001b[90m━━━━━━━━━━━━━━━━━━━━━━━━━━━━━━━━━━━━━━━━\u001b[0m \u001b[32m90.4/90.4 kB\u001b[0m \u001b[31m12.3 MB/s\u001b[0m eta \u001b[36m0:00:00\u001b[0m\n",
            "\u001b[?25hCollecting pyrsistent!=0.17.0,!=0.17.1,!=0.17.2,>=0.14.0 (from jsonschema>=2.6->nbformat->cirq-ft==1.3.0->cirq)\n",
            "  Downloading pyrsistent-0.20.0-cp310-cp310-manylinux_2_17_x86_64.manylinux2014_x86_64.whl (117 kB)\n",
            "\u001b[2K     \u001b[90m━━━━━━━━━━━━━━━━━━━━━━━━━━━━━━━━━━━━━━━━\u001b[0m \u001b[32m117.7/117.7 kB\u001b[0m \u001b[31m15.7 MB/s\u001b[0m eta \u001b[36m0:00:00\u001b[0m\n",
            "\u001b[?25hCollecting attrs (from cirq-ft==1.3.0->cirq)\n",
            "  Downloading attrs-21.4.0-py2.py3-none-any.whl (60 kB)\n",
            "\u001b[2K     \u001b[90m━━━━━━━━━━━━━━━━━━━━━━━━━━━━━━━━━━━━━━━━\u001b[0m \u001b[32m60.6/60.6 kB\u001b[0m \u001b[31m6.8 MB/s\u001b[0m eta \u001b[36m0:00:00\u001b[0m\n",
            "\u001b[?25hCollecting httpx<0.24.0,>=0.23.0 (from qcs-api-client<0.22.0,>=0.21.0->pyquil<4.0.0,>=3.2.0->cirq-rigetti==1.3.0->cirq)\n",
            "  Downloading httpx-0.23.3-py3-none-any.whl (71 kB)\n",
            "\u001b[2K     \u001b[90m━━━━━━━━━━━━━━━━━━━━━━━━━━━━━━━━━━━━━━━━\u001b[0m \u001b[32m71.5/71.5 kB\u001b[0m \u001b[31m10.2 MB/s\u001b[0m eta \u001b[36m0:00:00\u001b[0m\n",
            "\u001b[?25hCollecting iso8601<2.0.0,>=1.0.2 (from qcs-api-client<0.22.0,>=0.21.0->pyquil<4.0.0,>=3.2.0->cirq-rigetti==1.3.0->cirq)\n",
            "  Downloading iso8601-1.1.0-py3-none-any.whl (9.9 kB)\n",
            "Collecting pydantic<2.0.0,>=1.7.2 (from qcs-api-client<0.22.0,>=0.21.0->pyquil<4.0.0,>=3.2.0->cirq-rigetti==1.3.0->cirq)\n",
            "  Downloading pydantic-1.10.14-cp310-cp310-manylinux_2_17_x86_64.manylinux2014_x86_64.whl (3.1 MB)\n",
            "\u001b[2K     \u001b[90m━━━━━━━━━━━━━━━━━━━━━━━━━━━━━━━━━━━━━━━━\u001b[0m \u001b[32m3.1/3.1 MB\u001b[0m \u001b[31m83.5 MB/s\u001b[0m eta \u001b[36m0:00:00\u001b[0m\n",
            "\u001b[?25hCollecting retrying<2.0.0,>=1.3.3 (from qcs-api-client<0.22.0,>=0.21.0->pyquil<4.0.0,>=3.2.0->cirq-rigetti==1.3.0->cirq)\n",
            "  Downloading retrying-1.3.4-py3-none-any.whl (11 kB)\n",
            "Collecting rfc3339<7.0,>=6.2 (from qcs-api-client<0.22.0,>=0.21.0->pyquil<4.0.0,>=3.2.0->cirq-rigetti==1.3.0->cirq)\n",
            "  Downloading rfc3339-6.2-py3-none-any.whl (5.5 kB)\n",
            "Requirement already satisfied: toml<0.11.0,>=0.10.2 in /usr/local/lib/python3.10/dist-packages (from qcs-api-client<0.22.0,>=0.21.0->pyquil<4.0.0,>=3.2.0->cirq-rigetti==1.3.0->cirq) (0.10.2)\n",
            "Requirement already satisfied: msgpack<2.0,>=0.6 in /usr/local/lib/python3.10/dist-packages (from rpcq<4.0.0,>=3.10.0->pyquil<4.0.0,>=3.2.0->cirq-rigetti==1.3.0->cirq) (1.0.8)\n",
            "Collecting python-rapidjson (from rpcq<4.0.0,>=3.10.0->pyquil<4.0.0,>=3.2.0->cirq-rigetti==1.3.0->cirq)\n",
            "  Downloading python_rapidjson-1.16-cp310-cp310-manylinux_2_17_x86_64.manylinux2014_x86_64.whl (1.7 MB)\n",
            "\u001b[2K     \u001b[90m━━━━━━━━━━━━━━━━━━━━━━━━━━━━━━━━━━━━━━━━\u001b[0m \u001b[32m1.7/1.7 MB\u001b[0m \u001b[31m71.0 MB/s\u001b[0m eta \u001b[36m0:00:00\u001b[0m\n",
            "\u001b[?25hRequirement already satisfied: pyzmq>=17 in /usr/local/lib/python3.10/dist-packages (from rpcq<4.0.0,>=3.10.0->pyquil<4.0.0,>=3.2.0->cirq-rigetti==1.3.0->cirq) (23.2.1)\n",
            "Collecting ruamel.yaml (from rpcq<4.0.0,>=3.10.0->pyquil<4.0.0,>=3.2.0->cirq-rigetti==1.3.0->cirq)\n",
            "  Downloading ruamel.yaml-0.18.6-py3-none-any.whl (117 kB)\n",
            "\u001b[2K     \u001b[90m━━━━━━━━━━━━━━━━━━━━━━━━━━━━━━━━━━━━━━━━\u001b[0m \u001b[32m117.8/117.8 kB\u001b[0m \u001b[31m5.3 MB/s\u001b[0m eta \u001b[36m0:00:00\u001b[0m\n",
            "\u001b[?25hRequirement already satisfied: notebook>=4.4.1 in /usr/local/lib/python3.10/dist-packages (from widgetsnbextension~=3.6.0->ipywidgets->cirq-ft==1.3.0->cirq) (6.5.5)\n",
            "Requirement already satisfied: soupsieve>1.2 in /usr/local/lib/python3.10/dist-packages (from beautifulsoup4->nbconvert->cirq-ft==1.3.0->cirq) (2.5)\n",
            "Requirement already satisfied: webencodings in /usr/local/lib/python3.10/dist-packages (from bleach->nbconvert->cirq-ft==1.3.0->cirq) (0.5.1)\n",
            "Collecting httpcore<0.17.0,>=0.15.0 (from httpx<0.24.0,>=0.23.0->qcs-api-client<0.22.0,>=0.21.0->pyquil<4.0.0,>=3.2.0->cirq-rigetti==1.3.0->cirq)\n",
            "  Downloading httpcore-0.16.3-py3-none-any.whl (69 kB)\n",
            "\u001b[2K     \u001b[90m━━━━━━━━━━━━━━━━━━━━━━━━━━━━━━━━━━━━━━━━\u001b[0m \u001b[32m69.6/69.6 kB\u001b[0m \u001b[31m8.4 MB/s\u001b[0m eta \u001b[36m0:00:00\u001b[0m\n",
            "\u001b[?25hCollecting rfc3986[idna2008]<2,>=1.3 (from httpx<0.24.0,>=0.23.0->qcs-api-client<0.22.0,>=0.21.0->pyquil<4.0.0,>=3.2.0->cirq-rigetti==1.3.0->cirq)\n",
            "  Downloading rfc3986-1.5.0-py2.py3-none-any.whl (31 kB)\n",
            "Requirement already satisfied: sniffio in /usr/local/lib/python3.10/dist-packages (from httpx<0.24.0,>=0.23.0->qcs-api-client<0.22.0,>=0.21.0->pyquil<4.0.0,>=3.2.0->cirq-rigetti==1.3.0->cirq) (1.3.1)\n",
            "Requirement already satisfied: parso<0.9.0,>=0.8.3 in /usr/local/lib/python3.10/dist-packages (from jedi>=0.16->ipython>=4.0.0->ipywidgets->cirq-ft==1.3.0->cirq) (0.8.3)\n",
            "Requirement already satisfied: argon2-cffi in /usr/local/lib/python3.10/dist-packages (from notebook>=4.4.1->widgetsnbextension~=3.6.0->ipywidgets->cirq-ft==1.3.0->cirq) (23.1.0)\n",
            "Requirement already satisfied: nest-asyncio>=1.5 in /usr/local/lib/python3.10/dist-packages (from notebook>=4.4.1->widgetsnbextension~=3.6.0->ipywidgets->cirq-ft==1.3.0->cirq) (1.6.0)\n",
            "Requirement already satisfied: Send2Trash>=1.8.0 in /usr/local/lib/python3.10/dist-packages (from notebook>=4.4.1->widgetsnbextension~=3.6.0->ipywidgets->cirq-ft==1.3.0->cirq) (1.8.2)\n",
            "Requirement already satisfied: terminado>=0.8.3 in /usr/local/lib/python3.10/dist-packages (from notebook>=4.4.1->widgetsnbextension~=3.6.0->ipywidgets->cirq-ft==1.3.0->cirq) (0.18.1)\n",
            "Requirement already satisfied: prometheus-client in /usr/local/lib/python3.10/dist-packages (from notebook>=4.4.1->widgetsnbextension~=3.6.0->ipywidgets->cirq-ft==1.3.0->cirq) (0.20.0)\n",
            "Requirement already satisfied: nbclassic>=0.4.7 in /usr/local/lib/python3.10/dist-packages (from notebook>=4.4.1->widgetsnbextension~=3.6.0->ipywidgets->cirq-ft==1.3.0->cirq) (1.0.0)\n",
            "Requirement already satisfied: ptyprocess>=0.5 in /usr/local/lib/python3.10/dist-packages (from pexpect>4.3->ipython>=4.0.0->ipywidgets->cirq-ft==1.3.0->cirq) (0.7.0)\n",
            "Requirement already satisfied: wcwidth in /usr/local/lib/python3.10/dist-packages (from prompt-toolkit!=3.0.0,!=3.0.1,<3.1.0,>=2.0.0->ipython>=4.0.0->ipywidgets->cirq-ft==1.3.0->cirq) (0.2.13)\n",
            "Requirement already satisfied: pyasn1<0.7.0,>=0.4.6 in /usr/local/lib/python3.10/dist-packages (from pyasn1-modules>=0.2.1->google-auth<3.0.dev0,>=2.14.1->google-api-core[grpc]>=1.14.0->cirq-google==1.3.0->cirq) (0.6.0)\n",
            "Collecting ruamel.yaml.clib>=0.2.7 (from ruamel.yaml->rpcq<4.0.0,>=3.10.0->pyquil<4.0.0,>=3.2.0->cirq-rigetti==1.3.0->cirq)\n",
            "  Downloading ruamel.yaml.clib-0.2.8-cp310-cp310-manylinux_2_17_x86_64.manylinux2014_x86_64.manylinux_2_24_x86_64.whl (526 kB)\n",
            "\u001b[2K     \u001b[90m━━━━━━━━━━━━━━━━━━━━━━━━━━━━━━━━━━━━━━━━\u001b[0m \u001b[32m526.7/526.7 kB\u001b[0m \u001b[31m47.7 MB/s\u001b[0m eta \u001b[36m0:00:00\u001b[0m\n",
            "\u001b[?25hCollecting h11<0.15,>=0.13 (from httpcore<0.17.0,>=0.15.0->httpx<0.24.0,>=0.23.0->qcs-api-client<0.22.0,>=0.21.0->pyquil<4.0.0,>=3.2.0->cirq-rigetti==1.3.0->cirq)\n",
            "  Downloading h11-0.14.0-py3-none-any.whl (58 kB)\n",
            "\u001b[2K     \u001b[90m━━━━━━━━━━━━━━━━━━━━━━━━━━━━━━━━━━━━━━━━\u001b[0m \u001b[32m58.3/58.3 kB\u001b[0m \u001b[31m7.9 MB/s\u001b[0m eta \u001b[36m0:00:00\u001b[0m\n",
            "\u001b[?25hRequirement already satisfied: anyio<5.0,>=3.0 in /usr/local/lib/python3.10/dist-packages (from httpcore<0.17.0,>=0.15.0->httpx<0.24.0,>=0.23.0->qcs-api-client<0.22.0,>=0.21.0->pyquil<4.0.0,>=3.2.0->cirq-rigetti==1.3.0->cirq) (3.7.1)\n",
            "Requirement already satisfied: jupyter-server>=1.8 in /usr/local/lib/python3.10/dist-packages (from nbclassic>=0.4.7->notebook>=4.4.1->widgetsnbextension~=3.6.0->ipywidgets->cirq-ft==1.3.0->cirq) (1.24.0)\n",
            "Requirement already satisfied: notebook-shim>=0.2.3 in /usr/local/lib/python3.10/dist-packages (from nbclassic>=0.4.7->notebook>=4.4.1->widgetsnbextension~=3.6.0->ipywidgets->cirq-ft==1.3.0->cirq) (0.2.4)\n",
            "Requirement already satisfied: argon2-cffi-bindings in /usr/local/lib/python3.10/dist-packages (from argon2-cffi->notebook>=4.4.1->widgetsnbextension~=3.6.0->ipywidgets->cirq-ft==1.3.0->cirq) (21.2.0)\n",
            "Requirement already satisfied: exceptiongroup in /usr/local/lib/python3.10/dist-packages (from anyio<5.0,>=3.0->httpcore<0.17.0,>=0.15.0->httpx<0.24.0,>=0.23.0->qcs-api-client<0.22.0,>=0.21.0->pyquil<4.0.0,>=3.2.0->cirq-rigetti==1.3.0->cirq) (1.2.0)\n",
            "Requirement already satisfied: websocket-client in /usr/local/lib/python3.10/dist-packages (from jupyter-server>=1.8->nbclassic>=0.4.7->notebook>=4.4.1->widgetsnbextension~=3.6.0->ipywidgets->cirq-ft==1.3.0->cirq) (1.7.0)\n",
            "Requirement already satisfied: cffi>=1.0.1 in /usr/local/lib/python3.10/dist-packages (from argon2-cffi-bindings->argon2-cffi->notebook>=4.4.1->widgetsnbextension~=3.6.0->ipywidgets->cirq-ft==1.3.0->cirq) (1.16.0)\n",
            "Requirement already satisfied: pycparser in /usr/local/lib/python3.10/dist-packages (from cffi>=1.0.1->argon2-cffi-bindings->argon2-cffi->notebook>=4.4.1->widgetsnbextension~=3.6.0->ipywidgets->cirq-ft==1.3.0->cirq) (2.21)\n",
            "Building wheels for collected packages: lark, rpcq\n",
            "  Building wheel for lark (setup.py) ... \u001b[?25l\u001b[?25hdone\n",
            "  Created wheel for lark: filename=lark-0.11.3-py2.py3-none-any.whl size=99630 sha256=8e014e557b2aee6ce8439acfc8dfdcea447dbbbdea29b6745b667376f72bbf16\n",
            "  Stored in directory: /root/.cache/pip/wheels/7d/72/22/a2dbd112cf05c55adf2e1ead5fba8aa527b848f01cdd99687c\n",
            "  Building wheel for rpcq (setup.py) ... \u001b[?25l\u001b[?25hdone\n",
            "  Created wheel for rpcq: filename=rpcq-3.11.0-py3-none-any.whl size=45967 sha256=2ea8b006e9efec1c5789789521b773632884155968a8b1794eed8777feba6c3b\n",
            "  Stored in directory: /root/.cache/pip/wheels/91/97/0a/b384d94155345284ec00712ab814cbfb5bc2b631080b4fa4c3\n",
            "Successfully built lark rpcq\n",
            "Installing collected packages: types-retry, rfc3986, rfc3339, lark, types-python-dateutil, types-deprecated, ruamel.yaml.clib, retrying, python-rapidjson, pyrsistent, PyJWT, pydantic, jedi, iso8601, h11, duet, deprecated, attrs, ruamel.yaml, jsonschema, httpcore, rpcq, httpx, cirq-core, qcs-api-client, cirq-web, cirq-pasqal, cirq-ionq, cirq-aqt, pyquil, cirq-google, cirq-rigetti, cirq-ft, cirq\n",
            "  Attempting uninstall: PyJWT\n",
            "    Found existing installation: PyJWT 2.3.0\n",
            "    Uninstalling PyJWT-2.3.0:\n",
            "      Successfully uninstalled PyJWT-2.3.0\n",
            "  Attempting uninstall: pydantic\n",
            "    Found existing installation: pydantic 2.6.4\n",
            "    Uninstalling pydantic-2.6.4:\n",
            "      Successfully uninstalled pydantic-2.6.4\n",
            "  Attempting uninstall: attrs\n",
            "    Found existing installation: attrs 23.2.0\n",
            "    Uninstalling attrs-23.2.0:\n",
            "      Successfully uninstalled attrs-23.2.0\n",
            "  Attempting uninstall: jsonschema\n",
            "    Found existing installation: jsonschema 4.19.2\n",
            "    Uninstalling jsonschema-4.19.2:\n",
            "      Successfully uninstalled jsonschema-4.19.2\n",
            "\u001b[31mERROR: pip's dependency resolver does not currently take into account all the packages that are installed. This behaviour is the source of the following dependency conflicts.\n",
            "referencing 0.34.0 requires attrs>=22.2.0, but you have attrs 21.4.0 which is incompatible.\u001b[0m\u001b[31m\n",
            "\u001b[0mSuccessfully installed PyJWT-2.8.0 attrs-21.4.0 cirq-1.3.0 cirq-aqt-1.3.0 cirq-core-1.3.0 cirq-ft-1.3.0 cirq-google-1.3.0 cirq-ionq-1.3.0 cirq-pasqal-1.3.0 cirq-rigetti-1.3.0 cirq-web-1.3.0 deprecated-1.2.14 duet-0.2.9 h11-0.14.0 httpcore-0.16.3 httpx-0.23.3 iso8601-1.1.0 jedi-0.19.1 jsonschema-4.17.3 lark-0.11.3 pydantic-1.10.14 pyquil-3.5.4 pyrsistent-0.20.0 python-rapidjson-1.16 qcs-api-client-0.21.6 retrying-1.3.4 rfc3339-6.2 rfc3986-1.5.0 rpcq-3.11.0 ruamel.yaml-0.18.6 ruamel.yaml.clib-0.2.8 types-deprecated-1.2.9.20240311 types-python-dateutil-2.9.0.20240316 types-retry-0.9.9.4\n",
            "Collecting mitiq\n",
            "  Downloading mitiq-0.34.0-py3-none-any.whl (167 kB)\n",
            "\u001b[2K     \u001b[90m━━━━━━━━━━━━━━━━━━━━━━━━━━━━━━━━━━━━━━━━\u001b[0m \u001b[32m167.2/167.2 kB\u001b[0m \u001b[31m3.7 MB/s\u001b[0m eta \u001b[36m0:00:00\u001b[0m\n",
            "\u001b[?25hRequirement already satisfied: numpy>=1.22.0 in /usr/local/lib/python3.10/dist-packages (from mitiq) (1.25.2)\n",
            "Requirement already satisfied: scipy<=1.11.4,>=1.5.0 in /usr/local/lib/python3.10/dist-packages (from mitiq) (1.11.4)\n",
            "Requirement already satisfied: cirq<1.4.0,>=1.0.0 in /usr/local/lib/python3.10/dist-packages (from mitiq) (1.3.0)\n",
            "Requirement already satisfied: tabulate in /usr/local/lib/python3.10/dist-packages (from mitiq) (0.9.0)\n",
            "Requirement already satisfied: cirq-aqt==1.3.0 in /usr/local/lib/python3.10/dist-packages (from cirq<1.4.0,>=1.0.0->mitiq) (1.3.0)\n",
            "Requirement already satisfied: cirq-core==1.3.0 in /usr/local/lib/python3.10/dist-packages (from cirq<1.4.0,>=1.0.0->mitiq) (1.3.0)\n",
            "Requirement already satisfied: cirq-ft==1.3.0 in /usr/local/lib/python3.10/dist-packages (from cirq<1.4.0,>=1.0.0->mitiq) (1.3.0)\n",
            "Requirement already satisfied: cirq-google==1.3.0 in /usr/local/lib/python3.10/dist-packages (from cirq<1.4.0,>=1.0.0->mitiq) (1.3.0)\n",
            "Requirement already satisfied: cirq-ionq==1.3.0 in /usr/local/lib/python3.10/dist-packages (from cirq<1.4.0,>=1.0.0->mitiq) (1.3.0)\n",
            "Requirement already satisfied: cirq-pasqal==1.3.0 in /usr/local/lib/python3.10/dist-packages (from cirq<1.4.0,>=1.0.0->mitiq) (1.3.0)\n",
            "Requirement already satisfied: cirq-rigetti==1.3.0 in /usr/local/lib/python3.10/dist-packages (from cirq<1.4.0,>=1.0.0->mitiq) (1.3.0)\n",
            "Requirement already satisfied: cirq-web==1.3.0 in /usr/local/lib/python3.10/dist-packages (from cirq<1.4.0,>=1.0.0->mitiq) (1.3.0)\n",
            "Requirement already satisfied: requests~=2.18 in /usr/local/lib/python3.10/dist-packages (from cirq-aqt==1.3.0->cirq<1.4.0,>=1.0.0->mitiq) (2.31.0)\n",
            "Requirement already satisfied: duet~=0.2.8 in /usr/local/lib/python3.10/dist-packages (from cirq-core==1.3.0->cirq<1.4.0,>=1.0.0->mitiq) (0.2.9)\n",
            "Requirement already satisfied: matplotlib~=3.0 in /usr/local/lib/python3.10/dist-packages (from cirq-core==1.3.0->cirq<1.4.0,>=1.0.0->mitiq) (3.7.1)\n",
            "Requirement already satisfied: networkx>=2.4 in /usr/local/lib/python3.10/dist-packages (from cirq-core==1.3.0->cirq<1.4.0,>=1.0.0->mitiq) (3.2.1)\n",
            "Requirement already satisfied: pandas in /usr/local/lib/python3.10/dist-packages (from cirq-core==1.3.0->cirq<1.4.0,>=1.0.0->mitiq) (1.5.3)\n",
            "Requirement already satisfied: sortedcontainers~=2.0 in /usr/local/lib/python3.10/dist-packages (from cirq-core==1.3.0->cirq<1.4.0,>=1.0.0->mitiq) (2.4.0)\n",
            "Requirement already satisfied: sympy in /usr/local/lib/python3.10/dist-packages (from cirq-core==1.3.0->cirq<1.4.0,>=1.0.0->mitiq) (1.12)\n",
            "Requirement already satisfied: typing-extensions>=4.2 in /usr/local/lib/python3.10/dist-packages (from cirq-core==1.3.0->cirq<1.4.0,>=1.0.0->mitiq) (4.10.0)\n",
            "Requirement already satisfied: tqdm in /usr/local/lib/python3.10/dist-packages (from cirq-core==1.3.0->cirq<1.4.0,>=1.0.0->mitiq) (4.66.2)\n",
            "Requirement already satisfied: attrs in /usr/local/lib/python3.10/dist-packages (from cirq-ft==1.3.0->cirq<1.4.0,>=1.0.0->mitiq) (21.4.0)\n",
            "Requirement already satisfied: cachetools>=5.3 in /usr/local/lib/python3.10/dist-packages (from cirq-ft==1.3.0->cirq<1.4.0,>=1.0.0->mitiq) (5.3.3)\n",
            "Requirement already satisfied: ipywidgets in /usr/local/lib/python3.10/dist-packages (from cirq-ft==1.3.0->cirq<1.4.0,>=1.0.0->mitiq) (7.7.1)\n",
            "Requirement already satisfied: nbconvert in /usr/local/lib/python3.10/dist-packages (from cirq-ft==1.3.0->cirq<1.4.0,>=1.0.0->mitiq) (6.5.4)\n",
            "Requirement already satisfied: nbformat in /usr/local/lib/python3.10/dist-packages (from cirq-ft==1.3.0->cirq<1.4.0,>=1.0.0->mitiq) (5.10.3)\n",
            "Requirement already satisfied: google-api-core[grpc]>=1.14.0 in /usr/local/lib/python3.10/dist-packages (from cirq-google==1.3.0->cirq<1.4.0,>=1.0.0->mitiq) (2.11.1)\n",
            "Requirement already satisfied: proto-plus>=1.20.0 in /usr/local/lib/python3.10/dist-packages (from cirq-google==1.3.0->cirq<1.4.0,>=1.0.0->mitiq) (1.23.0)\n",
            "Requirement already satisfied: protobuf>=3.15.0 in /usr/local/lib/python3.10/dist-packages (from cirq-google==1.3.0->cirq<1.4.0,>=1.0.0->mitiq) (3.20.3)\n",
            "Requirement already satisfied: pyquil<4.0.0,>=3.2.0 in /usr/local/lib/python3.10/dist-packages (from cirq-rigetti==1.3.0->cirq<1.4.0,>=1.0.0->mitiq) (3.5.4)\n",
            "Requirement already satisfied: googleapis-common-protos<2.0.dev0,>=1.56.2 in /usr/local/lib/python3.10/dist-packages (from google-api-core[grpc]>=1.14.0->cirq-google==1.3.0->cirq<1.4.0,>=1.0.0->mitiq) (1.63.0)\n",
            "Requirement already satisfied: google-auth<3.0.dev0,>=2.14.1 in /usr/local/lib/python3.10/dist-packages (from google-api-core[grpc]>=1.14.0->cirq-google==1.3.0->cirq<1.4.0,>=1.0.0->mitiq) (2.27.0)\n",
            "Requirement already satisfied: grpcio<2.0dev,>=1.33.2 in /usr/local/lib/python3.10/dist-packages (from google-api-core[grpc]>=1.14.0->cirq-google==1.3.0->cirq<1.4.0,>=1.0.0->mitiq) (1.62.1)\n",
            "Requirement already satisfied: grpcio-status<2.0.dev0,>=1.33.2 in /usr/local/lib/python3.10/dist-packages (from google-api-core[grpc]>=1.14.0->cirq-google==1.3.0->cirq<1.4.0,>=1.0.0->mitiq) (1.48.2)\n",
            "Requirement already satisfied: contourpy>=1.0.1 in /usr/local/lib/python3.10/dist-packages (from matplotlib~=3.0->cirq-core==1.3.0->cirq<1.4.0,>=1.0.0->mitiq) (1.2.0)\n",
            "Requirement already satisfied: cycler>=0.10 in /usr/local/lib/python3.10/dist-packages (from matplotlib~=3.0->cirq-core==1.3.0->cirq<1.4.0,>=1.0.0->mitiq) (0.12.1)\n",
            "Requirement already satisfied: fonttools>=4.22.0 in /usr/local/lib/python3.10/dist-packages (from matplotlib~=3.0->cirq-core==1.3.0->cirq<1.4.0,>=1.0.0->mitiq) (4.50.0)\n",
            "Requirement already satisfied: kiwisolver>=1.0.1 in /usr/local/lib/python3.10/dist-packages (from matplotlib~=3.0->cirq-core==1.3.0->cirq<1.4.0,>=1.0.0->mitiq) (1.4.5)\n",
            "Requirement already satisfied: packaging>=20.0 in /usr/local/lib/python3.10/dist-packages (from matplotlib~=3.0->cirq-core==1.3.0->cirq<1.4.0,>=1.0.0->mitiq) (24.0)\n",
            "Requirement already satisfied: pillow>=6.2.0 in /usr/local/lib/python3.10/dist-packages (from matplotlib~=3.0->cirq-core==1.3.0->cirq<1.4.0,>=1.0.0->mitiq) (9.4.0)\n",
            "Requirement already satisfied: pyparsing>=2.3.1 in /usr/local/lib/python3.10/dist-packages (from matplotlib~=3.0->cirq-core==1.3.0->cirq<1.4.0,>=1.0.0->mitiq) (3.1.2)\n",
            "Requirement already satisfied: python-dateutil>=2.7 in /usr/local/lib/python3.10/dist-packages (from matplotlib~=3.0->cirq-core==1.3.0->cirq<1.4.0,>=1.0.0->mitiq) (2.8.2)\n",
            "Requirement already satisfied: deprecated<2.0.0,>=1.2.13 in /usr/local/lib/python3.10/dist-packages (from pyquil<4.0.0,>=3.2.0->cirq-rigetti==1.3.0->cirq<1.4.0,>=1.0.0->mitiq) (1.2.14)\n",
            "Requirement already satisfied: lark<0.12.0,>=0.11.1 in /usr/local/lib/python3.10/dist-packages (from pyquil<4.0.0,>=3.2.0->cirq-rigetti==1.3.0->cirq<1.4.0,>=1.0.0->mitiq) (0.11.3)\n",
            "Requirement already satisfied: qcs-api-client<0.22.0,>=0.21.0 in /usr/local/lib/python3.10/dist-packages (from pyquil<4.0.0,>=3.2.0->cirq-rigetti==1.3.0->cirq<1.4.0,>=1.0.0->mitiq) (0.21.6)\n",
            "Requirement already satisfied: rpcq<4.0.0,>=3.10.0 in /usr/local/lib/python3.10/dist-packages (from pyquil<4.0.0,>=3.2.0->cirq-rigetti==1.3.0->cirq<1.4.0,>=1.0.0->mitiq) (3.11.0)\n",
            "Requirement already satisfied: tenacity<9.0.0,>=8.2.2 in /usr/local/lib/python3.10/dist-packages (from pyquil<4.0.0,>=3.2.0->cirq-rigetti==1.3.0->cirq<1.4.0,>=1.0.0->mitiq) (8.2.3)\n",
            "Requirement already satisfied: types-deprecated<2.0.0.0,>=1.2.9.2 in /usr/local/lib/python3.10/dist-packages (from pyquil<4.0.0,>=3.2.0->cirq-rigetti==1.3.0->cirq<1.4.0,>=1.0.0->mitiq) (1.2.9.20240311)\n",
            "Requirement already satisfied: types-python-dateutil<3.0.0,>=2.8.19 in /usr/local/lib/python3.10/dist-packages (from pyquil<4.0.0,>=3.2.0->cirq-rigetti==1.3.0->cirq<1.4.0,>=1.0.0->mitiq) (2.9.0.20240316)\n",
            "Requirement already satisfied: types-retry<0.10.0,>=0.9.9 in /usr/local/lib/python3.10/dist-packages (from pyquil<4.0.0,>=3.2.0->cirq-rigetti==1.3.0->cirq<1.4.0,>=1.0.0->mitiq) (0.9.9.4)\n",
            "Requirement already satisfied: charset-normalizer<4,>=2 in /usr/local/lib/python3.10/dist-packages (from requests~=2.18->cirq-aqt==1.3.0->cirq<1.4.0,>=1.0.0->mitiq) (3.3.2)\n",
            "Requirement already satisfied: idna<4,>=2.5 in /usr/local/lib/python3.10/dist-packages (from requests~=2.18->cirq-aqt==1.3.0->cirq<1.4.0,>=1.0.0->mitiq) (3.6)\n",
            "Requirement already satisfied: urllib3<3,>=1.21.1 in /usr/local/lib/python3.10/dist-packages (from requests~=2.18->cirq-aqt==1.3.0->cirq<1.4.0,>=1.0.0->mitiq) (2.0.7)\n",
            "Requirement already satisfied: certifi>=2017.4.17 in /usr/local/lib/python3.10/dist-packages (from requests~=2.18->cirq-aqt==1.3.0->cirq<1.4.0,>=1.0.0->mitiq) (2024.2.2)\n",
            "Requirement already satisfied: ipykernel>=4.5.1 in /usr/local/lib/python3.10/dist-packages (from ipywidgets->cirq-ft==1.3.0->cirq<1.4.0,>=1.0.0->mitiq) (5.5.6)\n",
            "Requirement already satisfied: ipython-genutils~=0.2.0 in /usr/local/lib/python3.10/dist-packages (from ipywidgets->cirq-ft==1.3.0->cirq<1.4.0,>=1.0.0->mitiq) (0.2.0)\n",
            "Requirement already satisfied: traitlets>=4.3.1 in /usr/local/lib/python3.10/dist-packages (from ipywidgets->cirq-ft==1.3.0->cirq<1.4.0,>=1.0.0->mitiq) (5.7.1)\n",
            "Requirement already satisfied: widgetsnbextension~=3.6.0 in /usr/local/lib/python3.10/dist-packages (from ipywidgets->cirq-ft==1.3.0->cirq<1.4.0,>=1.0.0->mitiq) (3.6.6)\n",
            "Requirement already satisfied: ipython>=4.0.0 in /usr/local/lib/python3.10/dist-packages (from ipywidgets->cirq-ft==1.3.0->cirq<1.4.0,>=1.0.0->mitiq) (7.34.0)\n",
            "Requirement already satisfied: jupyterlab-widgets>=1.0.0 in /usr/local/lib/python3.10/dist-packages (from ipywidgets->cirq-ft==1.3.0->cirq<1.4.0,>=1.0.0->mitiq) (3.0.10)\n",
            "Requirement already satisfied: lxml in /usr/local/lib/python3.10/dist-packages (from nbconvert->cirq-ft==1.3.0->cirq<1.4.0,>=1.0.0->mitiq) (4.9.4)\n",
            "Requirement already satisfied: beautifulsoup4 in /usr/local/lib/python3.10/dist-packages (from nbconvert->cirq-ft==1.3.0->cirq<1.4.0,>=1.0.0->mitiq) (4.12.3)\n",
            "Requirement already satisfied: bleach in /usr/local/lib/python3.10/dist-packages (from nbconvert->cirq-ft==1.3.0->cirq<1.4.0,>=1.0.0->mitiq) (6.1.0)\n",
            "Requirement already satisfied: defusedxml in /usr/local/lib/python3.10/dist-packages (from nbconvert->cirq-ft==1.3.0->cirq<1.4.0,>=1.0.0->mitiq) (0.7.1)\n",
            "Requirement already satisfied: entrypoints>=0.2.2 in /usr/local/lib/python3.10/dist-packages (from nbconvert->cirq-ft==1.3.0->cirq<1.4.0,>=1.0.0->mitiq) (0.4)\n",
            "Requirement already satisfied: jinja2>=3.0 in /usr/local/lib/python3.10/dist-packages (from nbconvert->cirq-ft==1.3.0->cirq<1.4.0,>=1.0.0->mitiq) (3.1.3)\n",
            "Requirement already satisfied: jupyter-core>=4.7 in /usr/local/lib/python3.10/dist-packages (from nbconvert->cirq-ft==1.3.0->cirq<1.4.0,>=1.0.0->mitiq) (5.7.2)\n",
            "Requirement already satisfied: jupyterlab-pygments in /usr/local/lib/python3.10/dist-packages (from nbconvert->cirq-ft==1.3.0->cirq<1.4.0,>=1.0.0->mitiq) (0.3.0)\n",
            "Requirement already satisfied: MarkupSafe>=2.0 in /usr/local/lib/python3.10/dist-packages (from nbconvert->cirq-ft==1.3.0->cirq<1.4.0,>=1.0.0->mitiq) (2.1.5)\n",
            "Requirement already satisfied: mistune<2,>=0.8.1 in /usr/local/lib/python3.10/dist-packages (from nbconvert->cirq-ft==1.3.0->cirq<1.4.0,>=1.0.0->mitiq) (0.8.4)\n",
            "Requirement already satisfied: nbclient>=0.5.0 in /usr/local/lib/python3.10/dist-packages (from nbconvert->cirq-ft==1.3.0->cirq<1.4.0,>=1.0.0->mitiq) (0.10.0)\n",
            "Requirement already satisfied: pandocfilters>=1.4.1 in /usr/local/lib/python3.10/dist-packages (from nbconvert->cirq-ft==1.3.0->cirq<1.4.0,>=1.0.0->mitiq) (1.5.1)\n",
            "Requirement already satisfied: pygments>=2.4.1 in /usr/local/lib/python3.10/dist-packages (from nbconvert->cirq-ft==1.3.0->cirq<1.4.0,>=1.0.0->mitiq) (2.16.1)\n",
            "Requirement already satisfied: tinycss2 in /usr/local/lib/python3.10/dist-packages (from nbconvert->cirq-ft==1.3.0->cirq<1.4.0,>=1.0.0->mitiq) (1.2.1)\n",
            "Requirement already satisfied: fastjsonschema in /usr/local/lib/python3.10/dist-packages (from nbformat->cirq-ft==1.3.0->cirq<1.4.0,>=1.0.0->mitiq) (2.19.1)\n",
            "Requirement already satisfied: jsonschema>=2.6 in /usr/local/lib/python3.10/dist-packages (from nbformat->cirq-ft==1.3.0->cirq<1.4.0,>=1.0.0->mitiq) (4.17.3)\n",
            "Requirement already satisfied: pytz>=2020.1 in /usr/local/lib/python3.10/dist-packages (from pandas->cirq-core==1.3.0->cirq<1.4.0,>=1.0.0->mitiq) (2023.4)\n",
            "Requirement already satisfied: mpmath>=0.19 in /usr/local/lib/python3.10/dist-packages (from sympy->cirq-core==1.3.0->cirq<1.4.0,>=1.0.0->mitiq) (1.3.0)\n",
            "Requirement already satisfied: wrapt<2,>=1.10 in /usr/local/lib/python3.10/dist-packages (from deprecated<2.0.0,>=1.2.13->pyquil<4.0.0,>=3.2.0->cirq-rigetti==1.3.0->cirq<1.4.0,>=1.0.0->mitiq) (1.14.1)\n",
            "Requirement already satisfied: pyasn1-modules>=0.2.1 in /usr/local/lib/python3.10/dist-packages (from google-auth<3.0.dev0,>=2.14.1->google-api-core[grpc]>=1.14.0->cirq-google==1.3.0->cirq<1.4.0,>=1.0.0->mitiq) (0.4.0)\n",
            "Requirement already satisfied: rsa<5,>=3.1.4 in /usr/local/lib/python3.10/dist-packages (from google-auth<3.0.dev0,>=2.14.1->google-api-core[grpc]>=1.14.0->cirq-google==1.3.0->cirq<1.4.0,>=1.0.0->mitiq) (4.9)\n",
            "Requirement already satisfied: jupyter-client in /usr/local/lib/python3.10/dist-packages (from ipykernel>=4.5.1->ipywidgets->cirq-ft==1.3.0->cirq<1.4.0,>=1.0.0->mitiq) (6.1.12)\n",
            "Requirement already satisfied: tornado>=4.2 in /usr/local/lib/python3.10/dist-packages (from ipykernel>=4.5.1->ipywidgets->cirq-ft==1.3.0->cirq<1.4.0,>=1.0.0->mitiq) (6.3.3)\n",
            "Requirement already satisfied: setuptools>=18.5 in /usr/local/lib/python3.10/dist-packages (from ipython>=4.0.0->ipywidgets->cirq-ft==1.3.0->cirq<1.4.0,>=1.0.0->mitiq) (67.7.2)\n",
            "Requirement already satisfied: jedi>=0.16 in /usr/local/lib/python3.10/dist-packages (from ipython>=4.0.0->ipywidgets->cirq-ft==1.3.0->cirq<1.4.0,>=1.0.0->mitiq) (0.19.1)\n",
            "Requirement already satisfied: decorator in /usr/local/lib/python3.10/dist-packages (from ipython>=4.0.0->ipywidgets->cirq-ft==1.3.0->cirq<1.4.0,>=1.0.0->mitiq) (4.4.2)\n",
            "Requirement already satisfied: pickleshare in /usr/local/lib/python3.10/dist-packages (from ipython>=4.0.0->ipywidgets->cirq-ft==1.3.0->cirq<1.4.0,>=1.0.0->mitiq) (0.7.5)\n",
            "Requirement already satisfied: prompt-toolkit!=3.0.0,!=3.0.1,<3.1.0,>=2.0.0 in /usr/local/lib/python3.10/dist-packages (from ipython>=4.0.0->ipywidgets->cirq-ft==1.3.0->cirq<1.4.0,>=1.0.0->mitiq) (3.0.43)\n",
            "Requirement already satisfied: backcall in /usr/local/lib/python3.10/dist-packages (from ipython>=4.0.0->ipywidgets->cirq-ft==1.3.0->cirq<1.4.0,>=1.0.0->mitiq) (0.2.0)\n",
            "Requirement already satisfied: matplotlib-inline in /usr/local/lib/python3.10/dist-packages (from ipython>=4.0.0->ipywidgets->cirq-ft==1.3.0->cirq<1.4.0,>=1.0.0->mitiq) (0.1.6)\n",
            "Requirement already satisfied: pexpect>4.3 in /usr/local/lib/python3.10/dist-packages (from ipython>=4.0.0->ipywidgets->cirq-ft==1.3.0->cirq<1.4.0,>=1.0.0->mitiq) (4.9.0)\n",
            "Requirement already satisfied: pyrsistent!=0.17.0,!=0.17.1,!=0.17.2,>=0.14.0 in /usr/local/lib/python3.10/dist-packages (from jsonschema>=2.6->nbformat->cirq-ft==1.3.0->cirq<1.4.0,>=1.0.0->mitiq) (0.20.0)\n",
            "Requirement already satisfied: platformdirs>=2.5 in /usr/local/lib/python3.10/dist-packages (from jupyter-core>=4.7->nbconvert->cirq-ft==1.3.0->cirq<1.4.0,>=1.0.0->mitiq) (4.2.0)\n",
            "Requirement already satisfied: six>=1.5 in /usr/local/lib/python3.10/dist-packages (from python-dateutil>=2.7->matplotlib~=3.0->cirq-core==1.3.0->cirq<1.4.0,>=1.0.0->mitiq) (1.16.0)\n",
            "Requirement already satisfied: PyJWT<3.0.0,>=2.4.0 in /usr/local/lib/python3.10/dist-packages (from qcs-api-client<0.22.0,>=0.21.0->pyquil<4.0.0,>=3.2.0->cirq-rigetti==1.3.0->cirq<1.4.0,>=1.0.0->mitiq) (2.8.0)\n",
            "Requirement already satisfied: httpx<0.24.0,>=0.23.0 in /usr/local/lib/python3.10/dist-packages (from qcs-api-client<0.22.0,>=0.21.0->pyquil<4.0.0,>=3.2.0->cirq-rigetti==1.3.0->cirq<1.4.0,>=1.0.0->mitiq) (0.23.3)\n",
            "Requirement already satisfied: iso8601<2.0.0,>=1.0.2 in /usr/local/lib/python3.10/dist-packages (from qcs-api-client<0.22.0,>=0.21.0->pyquil<4.0.0,>=3.2.0->cirq-rigetti==1.3.0->cirq<1.4.0,>=1.0.0->mitiq) (1.1.0)\n",
            "Requirement already satisfied: pydantic<2.0.0,>=1.7.2 in /usr/local/lib/python3.10/dist-packages (from qcs-api-client<0.22.0,>=0.21.0->pyquil<4.0.0,>=3.2.0->cirq-rigetti==1.3.0->cirq<1.4.0,>=1.0.0->mitiq) (1.10.14)\n",
            "Requirement already satisfied: retrying<2.0.0,>=1.3.3 in /usr/local/lib/python3.10/dist-packages (from qcs-api-client<0.22.0,>=0.21.0->pyquil<4.0.0,>=3.2.0->cirq-rigetti==1.3.0->cirq<1.4.0,>=1.0.0->mitiq) (1.3.4)\n",
            "Requirement already satisfied: rfc3339<7.0,>=6.2 in /usr/local/lib/python3.10/dist-packages (from qcs-api-client<0.22.0,>=0.21.0->pyquil<4.0.0,>=3.2.0->cirq-rigetti==1.3.0->cirq<1.4.0,>=1.0.0->mitiq) (6.2)\n",
            "Requirement already satisfied: toml<0.11.0,>=0.10.2 in /usr/local/lib/python3.10/dist-packages (from qcs-api-client<0.22.0,>=0.21.0->pyquil<4.0.0,>=3.2.0->cirq-rigetti==1.3.0->cirq<1.4.0,>=1.0.0->mitiq) (0.10.2)\n",
            "Requirement already satisfied: msgpack<2.0,>=0.6 in /usr/local/lib/python3.10/dist-packages (from rpcq<4.0.0,>=3.10.0->pyquil<4.0.0,>=3.2.0->cirq-rigetti==1.3.0->cirq<1.4.0,>=1.0.0->mitiq) (1.0.8)\n",
            "Requirement already satisfied: python-rapidjson in /usr/local/lib/python3.10/dist-packages (from rpcq<4.0.0,>=3.10.0->pyquil<4.0.0,>=3.2.0->cirq-rigetti==1.3.0->cirq<1.4.0,>=1.0.0->mitiq) (1.16)\n",
            "Requirement already satisfied: pyzmq>=17 in /usr/local/lib/python3.10/dist-packages (from rpcq<4.0.0,>=3.10.0->pyquil<4.0.0,>=3.2.0->cirq-rigetti==1.3.0->cirq<1.4.0,>=1.0.0->mitiq) (23.2.1)\n",
            "Requirement already satisfied: ruamel.yaml in /usr/local/lib/python3.10/dist-packages (from rpcq<4.0.0,>=3.10.0->pyquil<4.0.0,>=3.2.0->cirq-rigetti==1.3.0->cirq<1.4.0,>=1.0.0->mitiq) (0.18.6)\n",
            "Requirement already satisfied: notebook>=4.4.1 in /usr/local/lib/python3.10/dist-packages (from widgetsnbextension~=3.6.0->ipywidgets->cirq-ft==1.3.0->cirq<1.4.0,>=1.0.0->mitiq) (6.5.5)\n",
            "Requirement already satisfied: soupsieve>1.2 in /usr/local/lib/python3.10/dist-packages (from beautifulsoup4->nbconvert->cirq-ft==1.3.0->cirq<1.4.0,>=1.0.0->mitiq) (2.5)\n",
            "Requirement already satisfied: webencodings in /usr/local/lib/python3.10/dist-packages (from bleach->nbconvert->cirq-ft==1.3.0->cirq<1.4.0,>=1.0.0->mitiq) (0.5.1)\n",
            "Requirement already satisfied: httpcore<0.17.0,>=0.15.0 in /usr/local/lib/python3.10/dist-packages (from httpx<0.24.0,>=0.23.0->qcs-api-client<0.22.0,>=0.21.0->pyquil<4.0.0,>=3.2.0->cirq-rigetti==1.3.0->cirq<1.4.0,>=1.0.0->mitiq) (0.16.3)\n",
            "Requirement already satisfied: rfc3986[idna2008]<2,>=1.3 in /usr/local/lib/python3.10/dist-packages (from httpx<0.24.0,>=0.23.0->qcs-api-client<0.22.0,>=0.21.0->pyquil<4.0.0,>=3.2.0->cirq-rigetti==1.3.0->cirq<1.4.0,>=1.0.0->mitiq) (1.5.0)\n",
            "Requirement already satisfied: sniffio in /usr/local/lib/python3.10/dist-packages (from httpx<0.24.0,>=0.23.0->qcs-api-client<0.22.0,>=0.21.0->pyquil<4.0.0,>=3.2.0->cirq-rigetti==1.3.0->cirq<1.4.0,>=1.0.0->mitiq) (1.3.1)\n",
            "Requirement already satisfied: parso<0.9.0,>=0.8.3 in /usr/local/lib/python3.10/dist-packages (from jedi>=0.16->ipython>=4.0.0->ipywidgets->cirq-ft==1.3.0->cirq<1.4.0,>=1.0.0->mitiq) (0.8.3)\n",
            "Requirement already satisfied: argon2-cffi in /usr/local/lib/python3.10/dist-packages (from notebook>=4.4.1->widgetsnbextension~=3.6.0->ipywidgets->cirq-ft==1.3.0->cirq<1.4.0,>=1.0.0->mitiq) (23.1.0)\n",
            "Requirement already satisfied: nest-asyncio>=1.5 in /usr/local/lib/python3.10/dist-packages (from notebook>=4.4.1->widgetsnbextension~=3.6.0->ipywidgets->cirq-ft==1.3.0->cirq<1.4.0,>=1.0.0->mitiq) (1.6.0)\n",
            "Requirement already satisfied: Send2Trash>=1.8.0 in /usr/local/lib/python3.10/dist-packages (from notebook>=4.4.1->widgetsnbextension~=3.6.0->ipywidgets->cirq-ft==1.3.0->cirq<1.4.0,>=1.0.0->mitiq) (1.8.2)\n",
            "Requirement already satisfied: terminado>=0.8.3 in /usr/local/lib/python3.10/dist-packages (from notebook>=4.4.1->widgetsnbextension~=3.6.0->ipywidgets->cirq-ft==1.3.0->cirq<1.4.0,>=1.0.0->mitiq) (0.18.1)\n",
            "Requirement already satisfied: prometheus-client in /usr/local/lib/python3.10/dist-packages (from notebook>=4.4.1->widgetsnbextension~=3.6.0->ipywidgets->cirq-ft==1.3.0->cirq<1.4.0,>=1.0.0->mitiq) (0.20.0)\n",
            "Requirement already satisfied: nbclassic>=0.4.7 in /usr/local/lib/python3.10/dist-packages (from notebook>=4.4.1->widgetsnbextension~=3.6.0->ipywidgets->cirq-ft==1.3.0->cirq<1.4.0,>=1.0.0->mitiq) (1.0.0)\n",
            "Requirement already satisfied: ptyprocess>=0.5 in /usr/local/lib/python3.10/dist-packages (from pexpect>4.3->ipython>=4.0.0->ipywidgets->cirq-ft==1.3.0->cirq<1.4.0,>=1.0.0->mitiq) (0.7.0)\n",
            "Requirement already satisfied: wcwidth in /usr/local/lib/python3.10/dist-packages (from prompt-toolkit!=3.0.0,!=3.0.1,<3.1.0,>=2.0.0->ipython>=4.0.0->ipywidgets->cirq-ft==1.3.0->cirq<1.4.0,>=1.0.0->mitiq) (0.2.13)\n",
            "Requirement already satisfied: pyasn1<0.7.0,>=0.4.6 in /usr/local/lib/python3.10/dist-packages (from pyasn1-modules>=0.2.1->google-auth<3.0.dev0,>=2.14.1->google-api-core[grpc]>=1.14.0->cirq-google==1.3.0->cirq<1.4.0,>=1.0.0->mitiq) (0.6.0)\n",
            "Requirement already satisfied: ruamel.yaml.clib>=0.2.7 in /usr/local/lib/python3.10/dist-packages (from ruamel.yaml->rpcq<4.0.0,>=3.10.0->pyquil<4.0.0,>=3.2.0->cirq-rigetti==1.3.0->cirq<1.4.0,>=1.0.0->mitiq) (0.2.8)\n",
            "Requirement already satisfied: h11<0.15,>=0.13 in /usr/local/lib/python3.10/dist-packages (from httpcore<0.17.0,>=0.15.0->httpx<0.24.0,>=0.23.0->qcs-api-client<0.22.0,>=0.21.0->pyquil<4.0.0,>=3.2.0->cirq-rigetti==1.3.0->cirq<1.4.0,>=1.0.0->mitiq) (0.14.0)\n",
            "Requirement already satisfied: anyio<5.0,>=3.0 in /usr/local/lib/python3.10/dist-packages (from httpcore<0.17.0,>=0.15.0->httpx<0.24.0,>=0.23.0->qcs-api-client<0.22.0,>=0.21.0->pyquil<4.0.0,>=3.2.0->cirq-rigetti==1.3.0->cirq<1.4.0,>=1.0.0->mitiq) (3.7.1)\n",
            "Requirement already satisfied: jupyter-server>=1.8 in /usr/local/lib/python3.10/dist-packages (from nbclassic>=0.4.7->notebook>=4.4.1->widgetsnbextension~=3.6.0->ipywidgets->cirq-ft==1.3.0->cirq<1.4.0,>=1.0.0->mitiq) (1.24.0)\n",
            "Requirement already satisfied: notebook-shim>=0.2.3 in /usr/local/lib/python3.10/dist-packages (from nbclassic>=0.4.7->notebook>=4.4.1->widgetsnbextension~=3.6.0->ipywidgets->cirq-ft==1.3.0->cirq<1.4.0,>=1.0.0->mitiq) (0.2.4)\n",
            "Requirement already satisfied: argon2-cffi-bindings in /usr/local/lib/python3.10/dist-packages (from argon2-cffi->notebook>=4.4.1->widgetsnbextension~=3.6.0->ipywidgets->cirq-ft==1.3.0->cirq<1.4.0,>=1.0.0->mitiq) (21.2.0)\n",
            "Requirement already satisfied: exceptiongroup in /usr/local/lib/python3.10/dist-packages (from anyio<5.0,>=3.0->httpcore<0.17.0,>=0.15.0->httpx<0.24.0,>=0.23.0->qcs-api-client<0.22.0,>=0.21.0->pyquil<4.0.0,>=3.2.0->cirq-rigetti==1.3.0->cirq<1.4.0,>=1.0.0->mitiq) (1.2.0)\n",
            "Requirement already satisfied: websocket-client in /usr/local/lib/python3.10/dist-packages (from jupyter-server>=1.8->nbclassic>=0.4.7->notebook>=4.4.1->widgetsnbextension~=3.6.0->ipywidgets->cirq-ft==1.3.0->cirq<1.4.0,>=1.0.0->mitiq) (1.7.0)\n",
            "Requirement already satisfied: cffi>=1.0.1 in /usr/local/lib/python3.10/dist-packages (from argon2-cffi-bindings->argon2-cffi->notebook>=4.4.1->widgetsnbextension~=3.6.0->ipywidgets->cirq-ft==1.3.0->cirq<1.4.0,>=1.0.0->mitiq) (1.16.0)\n",
            "Requirement already satisfied: pycparser in /usr/local/lib/python3.10/dist-packages (from cffi>=1.0.1->argon2-cffi-bindings->argon2-cffi->notebook>=4.4.1->widgetsnbextension~=3.6.0->ipywidgets->cirq-ft==1.3.0->cirq<1.4.0,>=1.0.0->mitiq) (2.21)\n",
            "Installing collected packages: mitiq\n",
            "Successfully installed mitiq-0.34.0\n"
          ]
        }
      ],
      "source": [
        "!pip install cirq\n",
        "!pip install mitiq\n"
      ]
    },
    {
      "cell_type": "code",
      "source": [
        "import cirq\n",
        "from mitiq import zne, benchmarks\n",
        "\n",
        "\n",
        "def execute(circuit, noise_level=0.05):\n",
        "    \"\"\"Returns Tr[ρ |0⟩⟨0|] where ρ is the state prepared by the circuit\n",
        "    with depolarizing noise.\"\"\"\n",
        "    noisy_circuit = circuit.with_noise(cirq.depolarize(p=noise_level))\n",
        "    return (\n",
        "        cirq.DensityMatrixSimulator()\n",
        "        .simulate(noisy_circuit)\n",
        "        .final_density_matrix[0, 0]\n",
        "        .real\n",
        "    )\n",
        "\n",
        "\n",
        "circuit = benchmarks.generate_rb_circuits(n_qubits=1, num_cliffords=50)[0]\n",
        "\n",
        "true_value = execute(circuit, noise_level=0.0)      # Ideal quantum computer\n",
        "noisy_value = execute(circuit)                      # Noisy quantum computer\n",
        "zne_value = zne.execute_with_zne(circuit, execute)  # Noisy quantum computer + Mitiq\n",
        "\n",
        "print(f\"Error w/o  Mitiq: {abs((true_value - noisy_value) / true_value):.3f}\")\n",
        "print(f\"Error w Mitiq:    {abs((true_value - zne_value) / true_value):.3f}\")"
      ],
      "metadata": {
        "colab": {
          "base_uri": "https://localhost:8080/"
        },
        "id": "FaOJNCEzVJbe",
        "outputId": "ff29ef28-dee7-44a4-fb47-12d28c4d4782"
      },
      "execution_count": 2,
      "outputs": [
        {
          "output_type": "stream",
          "name": "stdout",
          "text": [
            "Error w/o  Mitiq: 0.500\n",
            "Error w Mitiq:    0.499\n"
          ]
        }
      ]
    },
    {
      "cell_type": "markdown",
      "source": [
        "CODE#2"
      ],
      "metadata": {
        "id": "63vBevPVVSdk"
      }
    },
    {
      "cell_type": "code",
      "source": [
        "import cirq\n",
        "\n",
        "def execute (circuit, noise_level=0.05): #scale noise level from here\n",
        "  \"\"\"Returns Tr[rho |0><0|] where rho is state prepared by the circuit with the depolarizing noise.\"\"\"\n",
        "\n",
        "  #add depolarising noise\n",
        "  noisy_circuit = circuit.with_noise(cirq.depolarize(p=noise_level))\n",
        "\n",
        "  return (\n",
        "      cirq.DensityMatrixSimulator().simulate(noisy_circuit).final_density_matrix[0,0].real\n",
        "\n",
        "  )"
      ],
      "metadata": {
        "id": "0aJSFWiHhoKq"
      },
      "execution_count": 12,
      "outputs": []
    },
    {
      "cell_type": "markdown",
      "source": [
        "ZNE (we will define a circuit to work with)"
      ],
      "metadata": {
        "id": "pQehGPvGTpsQ"
      }
    },
    {
      "cell_type": "code",
      "source": [
        "a,b,c = cirq.LineQubit.range(3)\n",
        "\n",
        "circuit = cirq.Circuit(\n",
        "    cirq.H(a),\n",
        "    cirq.X(c),\n",
        "    cirq.CNOT(a,b),\n",
        "    cirq.CNOT(b,c),\n",
        "    cirq.Y(b),\n",
        "    cirq.S(a)\n",
        "\n",
        ")"
      ],
      "metadata": {
        "id": "-Dc6Nl96hrLX"
      },
      "execution_count": 13,
      "outputs": []
    },
    {
      "cell_type": "code",
      "source": [
        "print(circuit)"
      ],
      "metadata": {
        "colab": {
          "base_uri": "https://localhost:8080/"
        },
        "id": "91Bo2FnQhtkf",
        "outputId": "a39311dd-36a0-4ffb-9cfc-d9796d48273b"
      },
      "execution_count": 14,
      "outputs": [
        {
          "output_type": "stream",
          "name": "stdout",
          "text": [
            "0: ───H───@───S───────\n",
            "          │\n",
            "1: ───────X───@───Y───\n",
            "              │\n",
            "2: ───X───────X───────\n"
          ]
        }
      ]
    },
    {
      "cell_type": "code",
      "source": [
        "from mitiq.zne.scaling import fold_gates_at_random, fold_global\n",
        "\n",
        "folded_circuit = fold_gates_at_random(circuit, scale_factor = 4) #type of foldings\n",
        "\n",
        "print(folded_circuit)"
      ],
      "metadata": {
        "colab": {
          "base_uri": "https://localhost:8080/"
        },
        "id": "tVZijuPGhwG9",
        "outputId": "8f3405ce-19d0-4321-8794-d8bdacf9973e"
      },
      "execution_count": 15,
      "outputs": [
        {
          "output_type": "stream",
          "name": "stdout",
          "text": [
            "0: ───H───H───H───@───@───@───S───S^-1───S───────────────────────────────\n",
            "                  │   │   │\n",
            "1: ───────────────X───X───X───@───@──────@───@───@───Y───Y───Y───Y───Y───\n",
            "                              │   │      │   │   │\n",
            "2: ───X───X───X───X───X───────X───X──────X───X───X───────────────────────\n"
          ]
        }
      ]
    },
    {
      "cell_type": "code",
      "source": [
        "#Extrapolation (compute the Zero-Noise limit)"
      ],
      "metadata": {
        "id": "h8UaheQghykR"
      },
      "execution_count": 7,
      "outputs": []
    },
    {
      "cell_type": "code",
      "source": [
        "from mitiq.zne.inference import RichardsonFactory, LinearFactory, ExpFactory, PolyFactory, PolyExpFactory, AdaExpFactory\n",
        "\n",
        "factory =  RichardsonFactory([1,3,5]) #here you can change the extrapolation methods: Factory objects\n",
        "\n",
        "factory.run(circuit, execute)\n",
        "factory.reduce()\n",
        "\n"
      ],
      "metadata": {
        "colab": {
          "base_uri": "https://localhost:8080/"
        },
        "id": "iXHr8W9ph1nU",
        "outputId": "4f670e11-1f08-48ca-ceb5-3ef599cccc5b"
      },
      "execution_count": 16,
      "outputs": [
        {
          "output_type": "execute_result",
          "data": {
            "text/plain": [
              "0.024460401386022738"
            ]
          },
          "metadata": {},
          "execution_count": 16
        }
      ]
    },
    {
      "cell_type": "code",
      "source": [
        "factory.plot_fit();"
      ],
      "metadata": {
        "id": "iVu83fKCh4CS",
        "colab": {
          "base_uri": "https://localhost:8080/",
          "height": 465
        },
        "outputId": "034008c6-4f2d-40c1-d327-b785e8ee2074"
      },
      "execution_count": 17,
      "outputs": [
        {
          "output_type": "display_data",
          "data": {
            "text/plain": [
              "<Figure size 700x500 with 1 Axes>"
            ],
            "image/png": "[encoded data removed]"
          },
          "metadata": {}
        }
      ]
    },
    {
      "cell_type": "code",
      "source": [
        "from mitiq import zne\n",
        "\n",
        "true_value = execute(circuit,noise_level=0.04)\n",
        "noisy_value = execute(circuit)\n",
        "zne_value = zne.execute_with_zne(circuit,execute)\n",
        "\n",
        "print(f\"Error w/o Mitiq:{abs((true_value - noisy_value)/true_value):.3f}\")\n",
        "print(f\"Error w Nitiq: {abs((true_value - zne_value)/ true_value):.3f}\")"
      ],
      "metadata": {
        "id": "zyKIAtXTh8eI",
        "colab": {
          "base_uri": "https://localhost:8080/"
        },
        "outputId": "2e995332-d1ab-4876-831f-e6b00f11f580"
      },
      "execution_count": 21,
      "outputs": [
        {
          "output_type": "stream",
          "name": "stdout",
          "text": [
            "Error w/o Mitiq:0.184\n",
            "Error w Nitiq: 0.747\n"
          ]
        }
      ]
    },
    {
      "cell_type": "code",
      "source": [
        "\"\"\"Returns Tr[rho |0><0|] where rho is state prepared by the circuit with the depolarizing noise.\"\"\"\n",
        "# Add depolarizing noise\n",
        "noisy_circuit = circuit.with_noise(cirq.depolarize(p=0.04))\n",
        "\n",
        "# Create a DensityMatrixSimulator and simulate the noisy circuit\n",
        "simulator = cirq.DensityMatrixSimulator()\n",
        "result = simulator.simulate(noisy_circuit)\n",
        "\n",
        "# Extract the final density matrix and compute the desired trace\n",
        "density_matrix = result.final_density_matrix\n",
        "trace = density_matrix[0, 0]\n",
        "\n",
        "\n",
        "\n",
        "def some_function():\n",
        "    trace = density_matrix[0,0]\n",
        "    return trace\n",
        "\n",
        "print(trace)\n"
      ],
      "metadata": {
        "id": "GjlA_c6TUulL",
        "colab": {
          "base_uri": "https://localhost:8080/"
        },
        "outputId": "abe8cb27-6339-4518-e0dc-52ca1f699dd4"
      },
      "execution_count": 32,
      "outputs": [
        {
          "output_type": "stream",
          "name": "stdout",
          "text": [
            "(0.053470325+0j)\n"
          ]
        }
      ]
    },
    {
      "cell_type": "code",
      "source": [
        "print(density_matrix)"
      ],
      "metadata": {
        "colab": {
          "base_uri": "https://localhost:8080/"
        },
        "id": "-bbEcFa9Qxfp",
        "outputId": "153fd6b0-9118-467b-b33a-e93dffb4e104"
      },
      "execution_count": 33,
      "outputs": [
        {
          "output_type": "stream",
          "name": "stdout",
          "text": [
            "[[0.05347032+0.j         0.        +0.j         0.        +0.j\n",
            "  0.        +0.j         0.        +0.j         0.        +0.j\n",
            "  0.        +0.j         0.        +0.007719j  ]\n",
            " [0.        +0.j         0.02618846+0.j         0.        +0.j\n",
            "  0.        +0.j         0.        +0.j         0.        +0.j\n",
            "  0.        +0.00042264j 0.        +0.j        ]\n",
            " [0.        +0.j         0.        +0.j         0.04387365+0.j\n",
            "  0.        +0.j         0.        +0.j         0.        +0.01542643j\n",
            "  0.        +0.j         0.        +0.j        ]\n",
            " [0.        +0.j         0.        +0.j         0.        +0.j\n",
            "  0.37646717+0.j         0.        +0.28174362j 0.        +0.j\n",
            "  0.        +0.j         0.        +0.j        ]\n",
            " [0.        +0.j         0.        +0.j         0.        +0.j\n",
            "  0.        -0.28174362j 0.37646717+0.j         0.        +0.j\n",
            "  0.        +0.j         0.        +0.j        ]\n",
            " [0.        +0.j         0.        +0.j         0.        -0.01542643j\n",
            "  0.        +0.j         0.        +0.j         0.04387365+0.j\n",
            "  0.        +0.j         0.        +0.j        ]\n",
            " [0.        +0.j         0.        -0.00042264j 0.        +0.j\n",
            "  0.        +0.j         0.        +0.j         0.        +0.j\n",
            "  0.02618846+0.j         0.        +0.j        ]\n",
            " [0.        -0.007719j   0.        +0.j         0.        +0.j\n",
            "  0.        +0.j         0.        +0.j         0.        +0.j\n",
            "  0.        +0.j         0.05347032+0.j        ]]\n"
          ]
        }
      ]
    }
  ]
}
