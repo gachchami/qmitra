{
 "cells": [
  {
   "cell_type": "code",
   "execution_count": 31,
   "metadata": {},
   "outputs": [
    {
     "data": {
      "text/plain": [
       "dict_keys(['cirq', 'pyquil', 'qiskit', 'braket', 'pennylane', 'qibo'])"
      ]
     },
     "execution_count": 31,
     "metadata": {},
     "output_type": "execute_result"
    }
   ],
   "source": [
    "import mitiq\n",
    "\n",
    "mitiq.SUPPORTED_PROGRAM_TYPES.keys()"
   ]
  },
  {
   "cell_type": "code",
   "execution_count": 32,
   "metadata": {},
   "outputs": [],
   "source": [
    "#We first define the circuit of interest. In this example, the circuit has a slack window \n",
    "#with a length of 4 (in the sense that 4 single-qubit gates can fit in that window)."
   ]
  },
  {
   "cell_type": "code",
   "execution_count": 33,
   "metadata": {},
   "outputs": [
    {
     "data": {
      "image/svg+xml": [
       "<svg xmlns=\"http://www.w3.org/2000/svg\" width=\"666.9330078125001\" height=\"100.0\"><line x1=\"30.0\" x2=\"636.9330078125001\" y1=\"25.0\" y2=\"25.0\" stroke=\"#1967d2\" stroke-width=\"1\" /><line x1=\"30.0\" x2=\"636.9330078125001\" y1=\"75.0\" y2=\"75.0\" stroke=\"#1967d2\" stroke-width=\"1\" /><line x1=\"596.9330078125001\" x2=\"596.9330078125001\" y1=\"25.0\" y2=\"75.0\" stroke=\"black\" stroke-width=\"3\" /><rect x=\"10.0\" y=\"5.0\" width=\"40\" height=\"40\" stroke=\"black\" fill=\"white\" stroke-width=\"0\" /><text x=\"30.0\" y=\"25.0\" dominant-baseline=\"middle\" text-anchor=\"middle\" font-size=\"14px\" font-family=\"Arial:style=normal:variant=normal:weight=normal:stretch=normal:size=10.0\">0: </text><rect x=\"10.0\" y=\"55.0\" width=\"40\" height=\"40\" stroke=\"black\" fill=\"white\" stroke-width=\"0\" /><text x=\"30.0\" y=\"75.0\" dominant-baseline=\"middle\" text-anchor=\"middle\" font-size=\"14px\" font-family=\"Arial:style=normal:variant=normal:weight=normal:stretch=normal:size=10.0\">1: </text><rect x=\"70.0\" y=\"5.0\" width=\"84.18386718750001\" height=\"40\" stroke=\"black\" fill=\"white\" stroke-width=\"1\" /><text x=\"112.09193359375001\" y=\"25.0\" dominant-baseline=\"middle\" text-anchor=\"middle\" font-size=\"14px\" font-family=\"Arial:style=normal:variant=normal:weight=normal:stretch=normal:size=10.0\">Rx(0.032π)</text><rect x=\"70.0\" y=\"55.0\" width=\"84.18386718750001\" height=\"40\" stroke=\"black\" fill=\"white\" stroke-width=\"1\" /><text x=\"112.09193359375001\" y=\"75.0\" dominant-baseline=\"middle\" text-anchor=\"middle\" font-size=\"14px\" font-family=\"Arial:style=normal:variant=normal:weight=normal:stretch=normal:size=10.0\">Rx(-0.255π)</text><rect x=\"174.18386718750003\" y=\"5.0\" width=\"79.5217578125\" height=\"40\" stroke=\"black\" fill=\"white\" stroke-width=\"1\" /><text x=\"213.94474609375004\" y=\"25.0\" dominant-baseline=\"middle\" text-anchor=\"middle\" font-size=\"14px\" font-family=\"Arial:style=normal:variant=normal:weight=normal:stretch=normal:size=10.0\">Rx(0.032π)</text><rect x=\"273.70562500000005\" y=\"5.0\" width=\"79.5217578125\" height=\"40\" stroke=\"black\" fill=\"white\" stroke-width=\"1\" /><text x=\"313.46650390625007\" y=\"25.0\" dominant-baseline=\"middle\" text-anchor=\"middle\" font-size=\"14px\" font-family=\"Arial:style=normal:variant=normal:weight=normal:stretch=normal:size=10.0\">Rz(0.127π)</text><rect x=\"373.2273828125001\" y=\"5.0\" width=\"84.18386718750001\" height=\"40\" stroke=\"black\" fill=\"white\" stroke-width=\"1\" /><text x=\"415.3193164062501\" y=\"25.0\" dominant-baseline=\"middle\" text-anchor=\"middle\" font-size=\"14px\" font-family=\"Arial:style=normal:variant=normal:weight=normal:stretch=normal:size=10.0\">Rx(-0.229π)</text><rect x=\"477.4112500000001\" y=\"5.0\" width=\"79.5217578125\" height=\"40\" stroke=\"black\" fill=\"white\" stroke-width=\"1\" /><text x=\"517.1721289062501\" y=\"25.0\" dominant-baseline=\"middle\" text-anchor=\"middle\" font-size=\"14px\" font-family=\"Arial:style=normal:variant=normal:weight=normal:stretch=normal:size=10.0\">Rz(0.064π)</text><circle cx=\"596.9330078125001\" cy=\"25.0\" r=\"10.0\" /><rect x=\"576.9330078125001\" y=\"55.0\" width=\"40\" height=\"40\" stroke=\"black\" fill=\"white\" stroke-width=\"1\" /><text x=\"596.9330078125001\" y=\"75.0\" dominant-baseline=\"middle\" text-anchor=\"middle\" font-size=\"18px\" font-family=\"Arial:style=normal:variant=normal:weight=normal:stretch=normal:size=10.0\">X</text></svg>"
      ],
      "text/plain": [
       "<cirq.contrib.svg.svg.SVGCircuit at 0x15ba0d950>"
      ]
     },
     "execution_count": 33,
     "metadata": {},
     "output_type": "execute_result"
    }
   ],
   "source": [
    "from cirq import LineQubit, Circuit, rx, rz, CNOT\n",
    "from cirq.contrib.svg import SVGCircuit\n",
    "\n",
    "a, b = LineQubit.range(2)\n",
    "#cirq.NamedQubit: used to label qubits by an abstract name.\n",
    "#cirq.LineQubit: qubits labelled by number in a linear array.\n",
    "#cirq.GridQubit: qubits labelled by two numbers in a rectangular lattice.\n",
    "circuit = Circuit(\n",
    "    rx(0.1).on(a),\n",
    "    rx(0.1).on(a),\n",
    "    rz(0.4).on(a),\n",
    "    rx(-0.72).on(a),\n",
    "    rz(0.2).on(a),\n",
    "    rx(-0.8).on(b),\n",
    "    CNOT.on(a, b),\n",
    ")\n",
    "SVGCircuit(circuit)\n",
    "#The Rx gate is one of the Rotation operators. The Rx gate is a single-qubit rotation through angle θ (radians) around the x-axis.\n",
    "#Ry-- y axis and Rz -- z axis\n",
    "#The angle of rotation must be specified in radians and can be positive or negative.\n",
    "\n",
    "#The CNOT gate is two-qubit operation, where the first qubit is usually referred to as the control qubit and the second qubit as the target qubit. Expressed in basis states, the CNOT gate:\n",
    "#leaves the control qubit unchanged and performs a Pauli-X gate on the target qubit when the control qubit is in state ∣1⟩\n",
    "#leaves the target qubit unchanged when the control qubit is in state ∣0⟩."
   ]
  },
  {
   "cell_type": "code",
   "execution_count": 34,
   "metadata": {},
   "outputs": [],
   "source": [
    "#Error mitigation methods can involve running many circuits.  \n",
    "#The mitiq.Executor classis a tool for efficiently running many circuits and storing the results.\n",
    "\n",
    "#Next we define a simple executor function which inputs a circuit, executes the circuit on a noisy simulator, \n",
    "#and returns the probability of the ground state."
   ]
  },
  {
   "cell_type": "code",
   "execution_count": 35,
   "metadata": {},
   "outputs": [],
   "source": [
    "import numpy as np\n",
    "from cirq import DensityMatrixSimulator, amplitude_damp\n",
    "from mitiq.interface import convert_to_mitiq\n",
    "#A density matrix is a matrix that describes a quantum system in a mixed state, a statistical ensemble of several quantum states.\n",
    "\n",
    "#cirq.AmplitudeDampingChannel (or cirq.amplitude_damp) performs a /1>--->/0>\n",
    "#transformation with some probability gamma, leaving the existing /0>state alone.\n",
    "#  This channel is best used to represent an idealized form of energy dissipation, where qubits decay from to ∣1⟩ to /0>\n",
    "\n",
    "def execute(circuit, noise_level=0.1):\n",
    "    #we can change the noise level from 0 to 1 and compare the efficiency of the DD for different noise level\n",
    "    #In the theory of quantum communication, an amplitude damping channel \n",
    "    #is a quantum channel that models physical processes such as spontaneous emission.\n",
    "    \"\"\"Returns Tr[ρ |0⟩⟨0|] where ρ is the state prepared by the circuit\n",
    "    executed with amplitude damping noise.\n",
    "    \"\"\"\n",
    "    # Replace with code based on your frontend and backend.\n",
    "    mitiq_circuit, _ = convert_to_mitiq(circuit)\n",
    "    noisy_circuit = mitiq_circuit.with_noise(amplitude_damp(gamma=noise_level)) \n",
    "    #we can change gamma level and check the circuit\n",
    "    rho = DensityMatrixSimulator().simulate(noisy_circuit).final_density_matrix\n",
    "    return rho[0, 0].real #this will return real values \n",
    "#rho[0,0] represents the first row first column of the density matrix"
   ]
  },
  {
   "cell_type": "code",
   "execution_count": 36,
   "metadata": {},
   "outputs": [],
   "source": [
    "#The executor can be used to evaluate noisy (unmitigated) expectation values."
   ]
  },
  {
   "cell_type": "code",
   "execution_count": 37,
   "metadata": {},
   "outputs": [
    {
     "name": "stdout",
     "output_type": "stream",
     "text": [
      "Error without mitigation: 0.0753\n"
     ]
    }
   ],
   "source": [
    "# Compute the expectation value of the |0><0| observable.\n",
    "noisy_value = execute(circuit)\n",
    "ideal_value = execute(circuit, noise_level=0.0) #ideal noise leve=zero noise=0.0\n",
    "print(f\"Error without mitigation: {abs(ideal_value - noisy_value) :.3}\") #.3-upto 3 nonzero digits"
   ]
  },
  {
   "cell_type": "code",
   "execution_count": 38,
   "metadata": {},
   "outputs": [],
   "source": [
    "#Select the DDD sequences to be applied\n",
    "#We now import a DDD rule from Mitiq, i. e., \n",
    "#a function that generates DDD sequences of different length. \n",
    "#In this example, we opt for YY sequences (pairs of Pauli Y operations)."
   ]
  },
  {
   "cell_type": "code",
   "execution_count": 39,
   "metadata": {},
   "outputs": [],
   "source": [
    "from mitiq import ddd\n",
    "\n",
    "rule = ddd.rules.yy"
   ]
  },
  {
   "cell_type": "code",
   "execution_count": 40,
   "metadata": {},
   "outputs": [],
   "source": [
    "#Mitiq provides basic built in rules to approximate dynamical decoupling sequences\n",
    "#that are most used and discussed in the literature .\n",
    "#For example, the XX, YY, and XYXY rules generate the corresponding gate sequences spaced evenly over the input slack window.\n",
    "\n",
    "#For each of these rules, the user may specify a different spacing between the gates in the sequence \n",
    "#and pass the desired option as shown in the next code cell.\n",
    "\n",
    "#Note thatif we have defines for odd number of slack window and the dd sequence we use is even, \n",
    "#the remaining will take identity gate"
   ]
  },
  {
   "cell_type": "code",
   "execution_count": 41,
   "metadata": {},
   "outputs": [],
   "source": [
    "#Digital dynamical decoupling can be easily implemented with the function execute_with_ddd()."
   ]
  },
  {
   "cell_type": "code",
   "execution_count": 42,
   "metadata": {},
   "outputs": [],
   "source": [
    "mitigated_result = ddd.execute_with_ddd(\n",
    "    circuit=circuit,\n",
    "    executor=execute,\n",
    "    rule=rule,\n",
    ")"
   ]
  },
  {
   "cell_type": "code",
   "execution_count": 43,
   "metadata": {},
   "outputs": [
    {
     "name": "stdout",
     "output_type": "stream",
     "text": [
      "Error with mitigation (DDD): 0.00743\n"
     ]
    }
   ],
   "source": [
    "print(f\"Error with mitigation (DDD): {abs(ideal_value - mitigated_result) :.3}\")\n"
   ]
  },
  {
   "cell_type": "code",
   "execution_count": 44,
   "metadata": {},
   "outputs": [],
   "source": [
    "#here we can use different noise levels , different DDD rules , differnt circuits and compare them all.\n",
    "#We are using gate delay , we can also insert delays between gates , increase the number of ddd sequence , we can change the \n",
    "#time duration between gates or between sequences and compare theresults."
   ]
  },
  {
   "cell_type": "code",
   "execution_count": 45,
   "metadata": {},
   "outputs": [],
   "source": [
    "#Here we observe that the application of DDD reduces the estimation error when compared to the unmitigated result.\n",
    "\n",
    "#DDD is designed to mitigate noise that has a finite correlation time.\n",
    "#For the simple Markovian noise simulated in this example, DDD can still have a non-trivial effect on the final error,\n",
    "#but it is not always a positive effect. \n",
    "#For example, one can check that by changing the parameters of the input circuit, \n",
    "#the error with DDD is sometimes larger than the unmitigated error."
   ]
  }
 ],
 "metadata": {
  "kernelspec": {
   "display_name": "qrize",
   "language": "python",
   "name": "python3"
  },
  "language_info": {
   "codemirror_mode": {
    "name": "ipython",
    "version": 3
   },
   "file_extension": ".py",
   "mimetype": "text/x-python",
   "name": "python",
   "nbconvert_exporter": "python",
   "pygments_lexer": "ipython3",
   "version": "3.11.8"
  }
 },
 "nbformat": 4,
 "nbformat_minor": 2
}
