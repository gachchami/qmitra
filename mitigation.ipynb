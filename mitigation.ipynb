{
 "cells": [
  {
   "cell_type": "markdown",
   "metadata": {},
   "source": [
    "***Introduction***\n",
    "\n",
    "To begin with we need to imports modules from Cirq and Mitiq libraries to facilitate the simulation of quantum circuits and apply error mitigation strategies such as Zero-Noise Extrapolation (ZNE), Probabilistic Error Cancellation (PEC), and Dynamical Decoupling (DDD).\n",
    "\n",
    "Additionally, it imports specific functions for handling noise models, converting circuits to Mitiq format, and representing operations with local depolarizing noise. These functionalities are crucial for optimizing the performance and accuracy of quantum computations in the presence of noise."
   ]
  },
  {
   "cell_type": "code",
   "execution_count": 3,
   "metadata": {},
   "outputs": [],
   "source": [
    "import cirq\n",
    "import matplotlib.pyplot as plt\n",
    "\n",
    "from cirq import DensityMatrixSimulator, depolarize, amplitude_damp # selecting simulator and noise\n",
    "from mitiq.interface import convert_to_mitiq\n",
    "from mitiq.pec.representations.depolarizing import represent_operations_in_circuit_with_local_depolarizing_noise\n",
    "\n",
    "from mitiq import pec, zne, ddd\n",
    "from mitiq.zne.scaling import fold_gates_at_random\n"
   ]
  },
  {
   "cell_type": "markdown",
   "metadata": {},
   "source": [
    "```execute```\n",
    "\n",
    "is the executor with depolarizing noise and amplitude damping noise.\n",
    "\n",
    "\n",
    "- Args:\n",
    "\n",
    "    circuit: The input quantum circuit to be executed.\n",
    "    \n",
    "    noise_level: The level of depolarizing noise to be applied to the circuit, defaults to 0.2.\n",
    "\n",
    "- Returns:\n",
    "\n",
    "    The real part of the matrix element (0,0) of the final density matrix, representing the expectation value of the |0⟩⟨0| state prepared by the circuit executed with depolarizing noise.\n",
    "\n"
   ]
  },
  {
   "cell_type": "code",
   "execution_count": 46,
   "metadata": {},
   "outputs": [],
   "source": [
    "def execute(circuit, noise_level=0.2, damp=0.1):\n",
    "    \"\"\"Returns Tr[ρ |0⟩⟨0|] (expectation value)where ρ is the state prepared by the circuit\n",
    "    executed with depolarizing noise.\n",
    "    \"\"\"\n",
    "    mitiq_circuit, _ = convert_to_mitiq(circuit)\n",
    "    noisy_circuit = mitiq_circuit.with_noise(depolarize(p=noise_level))\n",
    "    noisy_circuit = noisy_circuit.with_noise(amplitude_damp(gamma=damp))\n",
    "\n",
    "    return DensityMatrixSimulator().simulate(noisy_circuit).final_density_matrix[0, 0].real #real value of matrix element (0,0)"
   ]
  },
  {
   "cell_type": "markdown",
   "metadata": {},
   "source": [
    "```launch:```\n",
    "\n",
    "helper method in style of a closure that allows launching cascading different types of mitigations"
   ]
  },
  {
   "cell_type": "code",
   "execution_count": 47,
   "metadata": {},
   "outputs": [],
   "source": [
    "def launch(parent_executor, executor, circuit, **executor_args):\n",
    "   executor = parent_executor(executor=executor, **executor_args)\n",
    "   return executor, executor(circuit)"
   ]
  },
  {
   "cell_type": "code",
   "execution_count": 54,
   "metadata": {},
   "outputs": [],
   "source": [
    "keys = [\"PEC\", \"ZNE\", \"DDD\", \"DDD_PEC\", \"ZNE_PEC\", \"DDD_PEC_ZNE\"]\n",
    "\n",
    "def calculate(executor, circuit, reps, factory, rule):\n",
    "   values = [0] * 6\n",
    "   pec_executor, values[0] = launch(pec.mitigate_executor, executor, circuit, representations= reps)\n",
    "   _, values[1] = launch(zne.mitigate_executor, executor, circuit, factory=factory)\n",
    "   _, values[2] = launch(ddd.mitigate_executor, executor, circuit, rule=rule)\n",
    "   _, values[3] = launch(ddd.mitigate_executor,pec_executor, circuit, rule = rule)\n",
    "   zne_pec_executor, values[4] = launch(zne.mitigate_executor, pec_executor, circuit, factory=factory)\n",
    "   _, values[5] = launch(ddd.mitigate_executor, zne_pec_executor, circuit, rule=rule)\n",
    "   return values\n"
   ]
  },
  {
   "cell_type": "markdown",
   "metadata": {},
   "source": [
    "Simple circuit that equates to Identity operation (via two X gates)"
   ]
  },
  {
   "cell_type": "code",
   "execution_count": 55,
   "metadata": {},
   "outputs": [
    {
     "name": "stderr",
     "output_type": "stream",
     "text": [
      "/opt/homebrew/anaconda3/envs/qrize/lib/python3.11/site-packages/mitiq/zne/inference.py:96: UserWarning: The input circuit is very short. This may reduce the accuracy of noise scaling.\n",
      "  warnings.warn(\n",
      "/opt/homebrew/anaconda3/envs/qrize/lib/python3.11/site-packages/mitiq/zne/inference.py:96: UserWarning: The input circuit is very short. This may reduce the accuracy of noise scaling.\n",
      "  warnings.warn(\n",
      "/opt/homebrew/anaconda3/envs/qrize/lib/python3.11/site-packages/mitiq/zne/inference.py:96: UserWarning: The input circuit is very short. This may reduce the accuracy of noise scaling.\n",
      "  warnings.warn(\n"
     ]
    }
   ],
   "source": [
    "a0 = cirq.q(\"a\")\n",
    "ops4 = [cirq.X(a0), cirq.X(a0)]\n",
    "circuitA = cirq.Circuit(ops4)\n",
    "\n",
    "noise_level = 0.2\n",
    "factory = zne.RichardsonFactory([1.0, 2.0])\n",
    "\n",
    "noisy_valueA= execute(circuitA, noise_level)\n",
    "ideal_valueA= execute(circuitA, noise_level=0.0,damp=0.0)\n",
    "rule = ddd.rules.xx\n",
    "repsA = represent_operations_in_circuit_with_local_depolarizing_noise(circuitA, noise_level)\n",
    "\n",
    "values = calculate(execute, circuitA, repsA, factory, rule)\n"
   ]
  },
  {
   "cell_type": "markdown",
   "metadata": {},
   "source": [
    "Different Mitigation strategies and combinations compared against each other"
   ]
  },
  {
   "cell_type": "code",
   "execution_count": 56,
   "metadata": {},
   "outputs": [
    {
     "name": "stdout",
     "output_type": "stream",
     "text": [
      "ideal value 1.0\n",
      "without mitigation 0.73027\n",
      "PEC mitigation   0.89834\n",
      "ZNE mitigation   0.84776\n",
      "DDD mitigation   0.73027\n",
      "DDD_PEC mitigation   0.89041\n",
      "ZNE_PEC mitigation   1.00845\n",
      "DDD_PEC_ZNE mitigation   0.94722\n"
     ]
    }
   ],
   "source": [
    "print(\"ideal value\", ideal_valueA)\n",
    "print(f\"without mitigation {noisy_valueA :.5f}\")\n",
    "for key,value in zip(keys, values):\n",
    "   print(f\"{key} mitigation   {value :.5f}\")"
   ]
  },
  {
   "cell_type": "code",
   "execution_count": 59,
   "metadata": {},
   "outputs": [
    {
     "name": "stdout",
     "output_type": "stream",
     "text": [
      "[0.8983403634901552, 0.8477624058723449, 0.7302666306495667, 0.8904068809860888, 1.0084532318984372, 0.9472220950441372]\n"
     ]
    }
   ],
   "source": [
    "%matplotlib inline\n",
    "# Creating the bar chart\n",
    "def plot_it(keys, values):\n",
    "   plt.figure(figsize=(10, 6))\n",
    "   plt.bar(keys, values, color='skyblue')\n",
    "   plt.xlabel('Strategy')\n",
    "   plt.ylabel('Value')\n",
    "   plt.title('Mitigation values')\n",
    "\n",
    "   # Adding a horizontal line\n",
    "   plt.axhline(y=noisy_valueA, color='r', linestyle='--', label=f'Noisey Value ({noisy_valueA:.2f})')\n",
    "   plt.legend()  # Display a legend\n",
    "\n",
    "   plt.show()\n",
    "print(values)"
   ]
  },
  {
   "cell_type": "markdown",
   "metadata": {},
   "source": [
    "ZNE_PEC combination stack as the best combination for the combo of amplitude dampening and noise errors. This can easily vary for different scripts and needs more analysis before a claim can be made"
   ]
  },
  {
   "cell_type": "code",
   "execution_count": 60,
   "metadata": {},
   "outputs": [
    {
     "data": {
      "image/png": "[encoded data removed]",
      "text/plain": [
       "<Figure size 1000x600 with 1 Axes>"
      ]
     },
     "metadata": {},
     "output_type": "display_data"
    }
   ],
   "source": [
    "plot_it(keys, values)"
   ]
  },
  {
   "cell_type": "markdown",
   "metadata": {},
   "source": [
    "A larger circuit that takes over 4 hrs to execute."
   ]
  },
  {
   "cell_type": "code",
   "execution_count": 63,
   "metadata": {},
   "outputs": [
    {
     "name": "stderr",
     "output_type": "stream",
     "text": [
      "/opt/homebrew/anaconda3/envs/qrize/lib/python3.11/site-packages/mitiq/zne/inference.py:96: UserWarning: The input circuit is very short. This may reduce the accuracy of noise scaling.\n",
      "  warnings.warn(\n",
      "/opt/homebrew/anaconda3/envs/qrize/lib/python3.11/site-packages/mitiq/zne/inference.py:96: UserWarning: The input circuit is very short. This may reduce the accuracy of noise scaling.\n",
      "  warnings.warn(\n",
      "/opt/homebrew/anaconda3/envs/qrize/lib/python3.11/site-packages/mitiq/pec/pec.py:123: LargeSampleWarning: The number of PEC samples is very large. It may take several minutes. It may be necessary to reduce 'precision' or 'num_samples'.\n",
      "  warnings.warn(_LARGE_SAMPLE_WARN, LargeSampleWarning)\n",
      "/opt/homebrew/anaconda3/envs/qrize/lib/python3.11/site-packages/mitiq/zne/inference.py:96: UserWarning: The input circuit is very short. This may reduce the accuracy of noise scaling.\n",
      "  warnings.warn(\n",
      "/opt/homebrew/anaconda3/envs/qrize/lib/python3.11/site-packages/mitiq/pec/pec.py:123: LargeSampleWarning: The number of PEC samples is very large. It may take several minutes. It may be necessary to reduce 'precision' or 'num_samples'.\n",
      "  warnings.warn(_LARGE_SAMPLE_WARN, LargeSampleWarning)\n"
     ]
    }
   ],
   "source": [
    "a0 = cirq.q(\"a\")\n",
    "ops1 = [cirq.H(a0), cirq.H(a0), cirq.H(a0), cirq.H(a0)]\n",
    "circuitA = cirq.Circuit(ops1)\n",
    "\n",
    "noise_level = 0.2\n",
    "factory = zne.RichardsonFactory([1.0, 2.0])\n",
    "\n",
    "noisy_valueA= execute(circuitA, noise_level)\n",
    "ideal_valueA= execute(circuitA, noise_level=0.0, damp=0.0)\n",
    "rule = ddd.rules.xx\n",
    "repsA = represent_operations_in_circuit_with_local_depolarizing_noise(circuitA, noise_level)\n",
    "\n",
    "values = calculate(execute, circuitA, repsA, factory, rule)"
   ]
  },
  {
   "cell_type": "code",
   "execution_count": null,
   "metadata": {},
   "outputs": [],
   "source": [
    "plot_it(keys, values)"
   ]
  }
 ],
 "metadata": {
  "kernelspec": {
   "display_name": "qrize",
   "language": "python",
   "name": "python3"
  },
  "language_info": {
   "codemirror_mode": {
    "name": "ipython",
    "version": 3
   },
   "file_extension": ".py",
   "mimetype": "text/x-python",
   "name": "python",
   "nbconvert_exporter": "python",
   "pygments_lexer": "ipython3",
   "version": "3.11.0"
  }
 },
 "nbformat": 4,
 "nbformat_minor": 2
}
