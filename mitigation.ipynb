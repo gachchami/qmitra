{
 "cells": [
  {
   "cell_type": "code",
   "execution_count": 11,
   "metadata": {},
   "outputs": [],
   "source": [
    "import cirq\n",
    "\n",
    "from cirq import DensityMatrixSimulator, depolarize # selecting simulator and noise\n",
    "from mitiq.interface import convert_to_mitiq\n",
    "from mitiq.pec.representations.depolarizing import represent_operations_in_circuit_with_local_depolarizing_noise\n",
    "\n",
    "from mitiq import pec, zne, ddd\n",
    "from mitiq.zne.scaling import fold_gates_at_random\n"
   ]
  },
  {
   "cell_type": "code",
   "execution_count": 12,
   "metadata": {},
   "outputs": [],
   "source": [
    "def execute(circuit, noise_level=0.2):\n",
    "    \"\"\"Returns Tr[ρ |0⟩⟨0|] (expectation value)where ρ is the state prepared by the circuit\n",
    "    executed with depolarizing noise.\n",
    "    \"\"\"\n",
    "    # Replace with code based on your frontend and backend.\n",
    "    mitiq_circuit, _ = convert_to_mitiq(circuit)\n",
    "    \n",
    "    # We add a simple noise model to simulate a noisy backend, depolarizing noise\n",
    "    noisy_circuit = mitiq_circuit.with_noise(depolarize(p=noise_level))\n",
    "    \n",
    "    rho = DensityMatrixSimulator().simulate(noisy_circuit).final_density_matrix\n",
    "    #DensityMatrixSimulator(*,dtype,noise):simulator for density matrices and noisy quantum circuits\n",
    "    return rho[0, 0].real #real value of matrix element (0,0)"
   ]
  },
  {
   "cell_type": "code",
   "execution_count": 13,
   "metadata": {},
   "outputs": [],
   "source": [
    "a0 = cirq.q(\"a\")\n",
    "# 5,1,3\n",
    "# 1 -> 5\n",
    "# X X\n",
    "ops4 = [cirq.X(a0), cirq.X(a0)]\n",
    "noise_level = 0.2\n",
    "factory = zne.RichardsonFactory([1.0, 2.0])\n",
    "circuitA = cirq.Circuit(ops4)\n",
    "noisy_valueA= execute(circuitA, noise_level)\n",
    "ideal_valueA= execute(circuitA, noise_level=0.0)\n",
    "rule = ddd.rules.xx\n",
    "repsA = represent_operations_in_circuit_with_local_depolarizing_noise(circuitA, noise_level)"
   ]
  },
  {
   "cell_type": "code",
   "execution_count": 14,
   "metadata": {},
   "outputs": [
    {
     "name": "stdout",
     "output_type": "stream",
     "text": [
      "Error without PEC:Circuit3: 0.23111\n",
      "Error with PEC:Circuit3:    0.02888\n"
     ]
    }
   ],
   "source": [
    "pec_executor = pec.mitigate_executor(execute, representations=repsA)\n",
    "pec_valueA = pec_executor(circuitA)\n",
    "print(f\"Error without PEC:Circuit3: {abs(ideal_valueA - noisy_valueA) :.5f}\")\n",
    "print(f\"Error with PEC:Circuit3:    {abs(ideal_valueA - pec_valueA) :.5f}\")\n"
   ]
  },
  {
   "cell_type": "code",
   "execution_count": 15,
   "metadata": {},
   "outputs": [
    {
     "name": "stdout",
     "output_type": "stream",
     "text": [
      "Error without ZNE:Circuit3: 0.23111\n",
      "Error with ZNE:Circuit3:    0.10682\n"
     ]
    },
    {
     "name": "stderr",
     "output_type": "stream",
     "text": [
      "/opt/homebrew/anaconda3/envs/qrize/lib/python3.11/site-packages/mitiq/zne/inference.py:96: UserWarning: The input circuit is very short. This may reduce the accuracy of noise scaling.\n",
      "  warnings.warn(\n"
     ]
    }
   ],
   "source": [
    "zne_executor = zne.mitigate_executor(execute, factory=factory)\n",
    "zne_valueA = zne_executor(circuitA)\n",
    "\n",
    "print(f\"Error without ZNE:Circuit3: {abs(ideal_valueA - noisy_valueA) :.5f}\")\n",
    "print(f\"Error with ZNE:Circuit3:    {abs(ideal_valueA - zne_valueA) :.5f}\")"
   ]
  },
  {
   "cell_type": "code",
   "execution_count": 16,
   "metadata": {},
   "outputs": [
    {
     "name": "stdout",
     "output_type": "stream",
     "text": [
      "Error without DDD:Circuit3: 0.23111\n",
      "Error with DDD:Circuit3:    0.23111\n"
     ]
    }
   ],
   "source": [
    "ddd_executor = ddd.mitigate_executor(executor=execute,rule = rule)\n",
    "ddd_value = ddd_executor(circuitA)\n",
    "\n",
    "print(f\"Error without DDD:Circuit3: {abs(ideal_valueA - noisy_valueA) :.5f}\")\n",
    "print(f\"Error with DDD:Circuit3:    {abs(ideal_valueA - ddd_value) :.5f}\")"
   ]
  },
  {
   "cell_type": "code",
   "execution_count": 17,
   "metadata": {},
   "outputs": [],
   "source": [
    "pec_ddd_combined_executor = ddd.mitigate_executor(executor=pec_executor,rule = rule)"
   ]
  },
  {
   "cell_type": "code",
   "execution_count": 18,
   "metadata": {},
   "outputs": [
    {
     "name": "stderr",
     "output_type": "stream",
     "text": [
      "/opt/homebrew/anaconda3/envs/qrize/lib/python3.11/site-packages/mitiq/zne/inference.py:96: UserWarning: The input circuit is very short. This may reduce the accuracy of noise scaling.\n",
      "  warnings.warn(\n"
     ]
    }
   ],
   "source": [
    "zne_executor = zne.mitigate_executor(pec_executor, factory=factory)\n",
    "combined_value = zne_executor(circuitA)\n",
    "\n",
    "print(f\"Error without COMBINED:Circuit3: {abs(ideal_valueA - noisy_valueA) :.5f}\")\n",
    "print(f\"Error with COMBINED:Circuit3:    {abs(ideal_valueA - combined_value) :.5f}\")"
   ]
  },
  {
   "cell_type": "code",
   "execution_count": null,
   "metadata": {},
   "outputs": [
    {
     "name": "stderr",
     "output_type": "stream",
     "text": [
      "/opt/homebrew/anaconda3/envs/qrize/lib/python3.11/site-packages/mitiq/zne/inference.py:96: UserWarning: The input circuit is very short. This may reduce the accuracy of noise scaling.\n",
      "  warnings.warn(\n"
     ]
    },
    {
     "name": "stdout",
     "output_type": "stream",
     "text": [
      "Error without COMBINED:Circuit3: 0.23111\n",
      "Error with COMBINED:Circuit3:    0.03459\n"
     ]
    }
   ],
   "source": [
    "zne_executor = zne.mitigate_executor(pec_ddd_combined_executor, factory=factory)\n",
    "combined_value = zne_executor(circuitA)\n",
    "\n",
    "print(f\"Error without COMBINED:Circuit3: {abs(ideal_valueA - noisy_valueA) :.5f}\")\n",
    "print(f\"Error with COMBINED:Circuit3:    {abs(ideal_valueA - combined_value) :.5f}\")"
   ]
  },
  {
   "cell_type": "code",
   "execution_count": null,
   "metadata": {},
   "outputs": [],
   "source": [
    "def launch(executor, types, circuit, **executor_args):\n",
    "   zne_executor = zne.mitigate_executor(executor=, **executor_args)\n",
    "   combined_value = zne_executor(circuit)\n",
    "\n",
    "   print(f\"Error without {types}:Circuit3: {abs(ideal_valueA - noisy_valueA) :.5f}\")\n",
    "   print(f\"Error with {types}:Circuit3:    {abs(ideal_valueA - combined_value) :.5f}\")"
   ]
  }
 ],
 "metadata": {
  "kernelspec": {
   "display_name": "qrize",
   "language": "python",
   "name": "python3"
  },
  "language_info": {
   "codemirror_mode": {
    "name": "ipython",
    "version": 3
   },
   "file_extension": ".py",
   "mimetype": "text/x-python",
   "name": "python",
   "nbconvert_exporter": "python",
   "pygments_lexer": "ipython3",
   "version": "3.11.0"
  }
 },
 "nbformat": 4,
 "nbformat_minor": 2
}
