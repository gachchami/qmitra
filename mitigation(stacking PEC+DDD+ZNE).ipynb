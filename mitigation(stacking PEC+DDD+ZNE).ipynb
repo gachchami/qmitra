{
 "cells": [
  {
   "cell_type": "markdown",
   "metadata": {},
   "source": [
    "To begin with we need to imports modules from Cirq and Mitiq libraries to facilitate the simulation of quantum circuits and apply error mitigation strategies such as Zero-Noise Extrapolation (ZNE), Probabilistic Error Cancellation (PEC), and Dynamical Decoupling (DDD).\n",
    "\n",
    "Additionally, it imports specific functions for handling noise models, converting circuits to Mitiq format, and representing operations with local depolarizing noise. These functionalities are crucial for optimizing the performance and accuracy of quantum computations in the presence of noise."
   ]
  },
  {
   "cell_type": "code",
   "execution_count": 11,
   "metadata": {},
   "outputs": [],
   "source": [
    "import cirq\n",
    "\n",
    "from cirq import DensityMatrixSimulator, depolarize # selecting simulator and noise\n",
    "from mitiq.interface import convert_to_mitiq\n",
    "from mitiq.pec.representations.depolarizing import represent_operations_in_circuit_with_local_depolarizing_noise\n",
    "\n",
    "from mitiq import pec, zne, ddd\n",
    "from mitiq.zne.scaling import fold_gates_at_random\n"
   ]
  },
  {
   "cell_type": "markdown",
   "metadata": {},
   "source": [
    "\n",
    "This function, execute, simulates the execution of a quantum circuit with depolarizing noise and returns the expectation value of the density matrix corresponding to the |0⟩⟨0| state.\n",
    "\n",
    "Args:\n",
    "    circuit: The input quantum circuit to be executed.\n",
    "    noise_level: The level of depolarizing noise to be applied to the circuit, defaults to 0.2.\n",
    "\n",
    "Returns:\n",
    "    The real part of the matrix element (0,0) of the final density matrix, representing the expectation value of the |0⟩⟨0| state prepared by the circuit executed with depolarizing noise.\n",
    "\n"
   ]
  },
  {
   "cell_type": "code",
   "execution_count": 12,
   "metadata": {},
   "outputs": [],
   "source": [
    "def execute(circuit, noise_level=0.2):\n",
    "    \"\"\"Returns Tr[ρ |0⟩⟨0|] (expectation value)where ρ is the state prepared by the circuit\n",
    "    executed with depolarizing noise.\n",
    "    \"\"\"\n",
    "    # Replace with code based on your frontend and backend.\n",
    "    mitiq_circuit, _ = convert_to_mitiq(circuit)\n",
    "    \n",
    "    # We add a simple noise model to simulate a noisy backend, depolarizing noise\n",
    "    noisy_circuit = mitiq_circuit.with_noise(depolarize(p=noise_level))\n",
    "    \n",
    "    rho = DensityMatrixSimulator().simulate(noisy_circuit).final_density_matrix\n",
    "    #DensityMatrixSimulator(*,dtype,noise):simulator for density matrices and noisy quantum circuits\n",
    "    return rho[0, 0].real #real value of matrix element (0,0)"
   ]
  },
  {
   "cell_type": "markdown",
   "metadata": {},
   "source": [
    "This code snippet demonstrates the simulation of a quantum circuit 'circuitA' with two X gates applied to qubit 'a0', representing the sequence X X. \n",
    "\n",
    "The noise level is set to 0.2, and the RichardsonFactory with scale factors [1.0, 2.0] is used for Zero-Noise Extrapolation (ZNE) extrapolation.\n",
    "\n",
    "After constructing the circuit and executing it with and without noise, the noisy and ideal expectation values are calculated using the 'execute' function.\n",
    "\n",
    "Additionally, the 'rule' variable is assigned the ddd.rules.xx rule, and 'repsA' represents the operations in 'circuitA' with local depolarizing noise at the specified noise level.\n",
    "\n"
   ]
  },
  {
   "cell_type": "code",
   "execution_count": 13,
   "metadata": {},
   "outputs": [],
   "source": [
    "a0 = cirq.q(\"a\")\n",
    "# 5,1,3\n",
    "# 1 -> 5\n",
    "# X X\n",
    "ops4 = [cirq.X(a0), cirq.X(a0)]\n",
    "noise_level = 0.2\n",
    "factory = zne.RichardsonFactory([1.0, 2.0])\n",
    "circuitA = cirq.Circuit(ops4)\n",
    "noisy_valueA= execute(circuitA, noise_level)\n",
    "ideal_valueA= execute(circuitA, noise_level=0.0)\n",
    "rule = ddd.rules.xx\n",
    "repsA = represent_operations_in_circuit_with_local_depolarizing_noise(circuitA, noise_level)"
   ]
  },
  {
   "cell_type": "markdown",
   "metadata": {},
   "source": [
    "This code snippet demonstrates the use of Probabilistic Error Cancellation (PEC) to mitigate errors in quantum circuit execution.\n",
    "\n",
    "The 'pec_executor' is created using 'pec.mitigate_executor' function, which takes the 'execute' function as input along with representations of operations in 'circuitA' with local depolarizing noise ('repsA').\n",
    "\n",
    "The 'pec_executor' is then used to execute 'circuitA' with PEC, resulting in 'pec_valueA'.\n",
    "\n",
    "Finally, the error reduction achieved by PEC is evaluated by comparing the noisy and ideal expectation values obtained with and without PEC, respectively. The absolute differences are printed to the console.\n"
   ]
  },
  {
   "cell_type": "code",
   "execution_count": 14,
   "metadata": {},
   "outputs": [
    {
     "name": "stdout",
     "output_type": "stream",
     "text": [
      "Error without PEC:Circuit3: 0.23111\n",
      "Error with PEC:Circuit3:    0.02888\n"
     ]
    }
   ],
   "source": [
    "pec_executor = pec.mitigate_executor(execute, representations=repsA)\n",
    "pec_valueA = pec_executor(circuitA)\n",
    "print(f\"Error without PEC:Circuit3: {abs(ideal_valueA - noisy_valueA) :.5f}\")\n",
    "print(f\"Error with PEC:Circuit3:    {abs(ideal_valueA - pec_valueA) :.5f}\")\n"
   ]
  },
  {
   "cell_type": "markdown",
   "metadata": {},
   "source": [
    "\n",
    "This code snippet demonstrates the application of Zero-Noise Extrapolation (ZNE) to mitigate errors in quantum circuit execution.\n",
    "\n",
    "The 'zne_executor' is created using 'zne.mitigate_executor' function, which takes the 'execute' function as input along with the ZNE factory ('factory') specifying scale factors for extrapolation.\n",
    "\n",
    "The 'zne_executor' is then used to execute 'circuitA' with ZNE, resulting in 'zne_valueA'.\n",
    "\n",
    "Finally, the error reduction achieved by ZNE is evaluated by comparing the noisy and ideal expectation values obtained with and without ZNE, respectively. The absolute differences are printed to the console.\n"
   ]
  },
  {
   "cell_type": "code",
   "execution_count": 15,
   "metadata": {},
   "outputs": [
    {
     "name": "stdout",
     "output_type": "stream",
     "text": [
      "Error without ZNE:Circuit3: 0.23111\n",
      "Error with ZNE:Circuit3:    0.10682\n"
     ]
    },
    {
     "name": "stderr",
     "output_type": "stream",
     "text": [
      "/opt/homebrew/anaconda3/envs/qrize/lib/python3.11/site-packages/mitiq/zne/inference.py:96: UserWarning: The input circuit is very short. This may reduce the accuracy of noise scaling.\n",
      "  warnings.warn(\n"
     ]
    }
   ],
   "source": [
    "zne_executor = zne.mitigate_executor(execute, factory=factory)\n",
    "zne_valueA = zne_executor(circuitA)\n",
    "\n",
    "print(f\"Error without ZNE:Circuit3: {abs(ideal_valueA - noisy_valueA) :.5f}\")\n",
    "print(f\"Error with ZNE:Circuit3:    {abs(ideal_valueA - zne_valueA) :.5f}\")"
   ]
  },
  {
   "cell_type": "markdown",
   "metadata": {},
   "source": [
    "\n",
    "This code snippet demonstrates the application of Dynamical Decoupling (DDD) to mitigate errors in quantum circuit execution.\n",
    "\n",
    "The 'ddd_executor' is created using the 'ddd.mitigate_executor' function, which takes the 'execute' function as input along with the specified DDD rule ('rule').\n",
    "\n",
    "The 'ddd_executor' is then used to execute 'circuitA' with DDD, resulting in 'ddd_value'.\n",
    "\n",
    "Finally, the error reduction achieved by DDD is evaluated by comparing the noisy and ideal expectation values obtained with and without DDD, respectively. The absolute differences are printed to the console.\n"
   ]
  },
  {
   "cell_type": "code",
   "execution_count": 16,
   "metadata": {},
   "outputs": [
    {
     "name": "stdout",
     "output_type": "stream",
     "text": [
      "Error without DDD:Circuit3: 0.23111\n",
      "Error with DDD:Circuit3:    0.23111\n"
     ]
    }
   ],
   "source": [
    "ddd_executor = ddd.mitigate_executor(executor=execute,rule = rule)\n",
    "ddd_value = ddd_executor(circuitA)\n",
    "\n",
    "print(f\"Error without DDD:Circuit3: {abs(ideal_valueA - noisy_valueA) :.5f}\")\n",
    "print(f\"Error with DDD:Circuit3:    {abs(ideal_valueA - ddd_value) :.5f}\")"
   ]
  },
  {
   "cell_type": "markdown",
   "metadata": {},
   "source": [
    "\n",
    "This code snippet demonstrates the combined application of Probabilistic Error Cancellation (PEC) and Dynamical Decoupling (DDD) to mitigate errors in quantum circuit execution.\n",
    "\n",
    "The 'pec_ddd_combined_executor' is created using the 'ddd.mitigate_executor' function, which takes the 'pec_executor' as input along with the specified DDD rule ('rule').\n",
    "\n",
    "The 'pec_ddd_combined_executor' is then used to execute the PEC mitigated circuit with DDD, resulting in improved error mitigation.\n"
   ]
  },
  {
   "cell_type": "code",
   "execution_count": 17,
   "metadata": {},
   "outputs": [],
   "source": [
    "pec_ddd_combined_executor = ddd.mitigate_executor(executor=pec_executor,rule = rule)"
   ]
  },
  {
   "cell_type": "markdown",
   "metadata": {},
   "source": [
    "\n",
    "This code snippet demonstrates the combined application of Probabilistic Error Cancellation (PEC) and Zero-Noise Extrapolation (ZNE) to mitigate errors in quantum circuit execution.\n",
    "\n",
    "The 'zne_executor' is created using the 'zne.mitigate_executor' function, which takes the 'pec_executor' as input along with the ZNE factory ('factory') specifying scale factors for extrapolation.\n",
    "\n",
    "The 'zne_executor' is then used to execute 'circuitA' with the combined PEC and ZNE techniques, resulting in 'combined_value'.\n",
    "\n",
    "Finally, the error reduction achieved by the combined approach is evaluated by comparing the noisy and ideal expectation values obtained with and without the combined approach, respectively. The absolute differences are printed to the console.\n"
   ]
  },
  {
   "cell_type": "code",
   "execution_count": 18,
   "metadata": {},
   "outputs": [
    {
     "name": "stderr",
     "output_type": "stream",
     "text": [
      "/opt/homebrew/anaconda3/envs/qrize/lib/python3.11/site-packages/mitiq/zne/inference.py:96: UserWarning: The input circuit is very short. This may reduce the accuracy of noise scaling.\n",
      "  warnings.warn(\n"
     ]
    },
    {
     "name": "stdout",
     "output_type": "stream",
     "text": [
      "Error without COMBINED:Circuit3: 0.23111\n",
      "Error with COMBINED:Circuit3:    0.02374\n"
     ]
    }
   ],
   "source": [
    "zne_executor = zne.mitigate_executor(pec_executor, factory=factory)\n",
    "combined_value = zne_executor(circuitA)\n",
    "\n",
    "print(f\"Error without COMBINED:Circuit3: {abs(ideal_valueA - noisy_valueA) :.5f}\")\n",
    "print(f\"Error with COMBINED:Circuit3:    {abs(ideal_valueA - combined_value) :.5f}\")"
   ]
  },
  {
   "cell_type": "markdown",
   "metadata": {},
   "source": [
    "\n",
    "This code snippet demonstrates the combined application of Zero-Noise Extrapolation (ZNE) with a previously combined PEC and DDD technique to further mitigate errors in quantum circuit execution.\n",
    "\n",
    "The 'zne_executor' is created using the 'zne.mitigate_executor' function, which takes the previously combined 'pec_ddd_combined_executor' as input along with the ZNE factory ('factory') specifying scale factors for extrapolation.\n",
    "\n",
    "The 'zne_executor' is then used to execute 'circuitA' with the combined PEC, DDD, and ZNE techniques, resulting in 'combined_value'.\n",
    "\n",
    "Finally, the error reduction achieved by the combined approach is evaluated by comparing the noisy and ideal expectation values obtained with and without the combined approach, respectively. The absolute differences are printed to the console.\n"
   ]
  },
  {
   "cell_type": "code",
   "execution_count": 19,
   "metadata": {},
   "outputs": [
    {
     "name": "stderr",
     "output_type": "stream",
     "text": [
      "/opt/homebrew/anaconda3/envs/qrize/lib/python3.11/site-packages/mitiq/zne/inference.py:96: UserWarning: The input circuit is very short. This may reduce the accuracy of noise scaling.\n",
      "  warnings.warn(\n"
     ]
    },
    {
     "name": "stdout",
     "output_type": "stream",
     "text": [
      "Error without COMBINED:Circuit3: 0.23111\n",
      "Error with COMBINED:Circuit3:    0.01252\n"
     ]
    }
   ],
   "source": [
    "zne_executor = zne.mitigate_executor(pec_ddd_combined_executor, factory=factory)\n",
    "combined_value = zne_executor(circuitA)\n",
    "\n",
    "print(f\"Error without COMBINED:Circuit3: {abs(ideal_valueA - noisy_valueA) :.5f}\")\n",
    "print(f\"Error with COMBINED:Circuit3:    {abs(ideal_valueA - combined_value) :.5f}\")"
   ]
  },
  {
   "cell_type": "markdown",
   "metadata": {},
   "source": [
    "This function launches the specified error mitigation technique (executor) with additional arguments (executor_args) applied to the given quantum circuit.\n",
    "\n",
    "Parameters:\n",
    "- executor: The error mitigation technique to be launched.\n",
    "- types: The type of error mitigation technique being applied (e.g., PEC, DDD, ZNE, or a combination).\n",
    "- circuit: The quantum circuit to be executed.\n",
    "- **executor_args: Additional arguments for configuring the error mitigation technique.\n",
    "\n",
    "Returns:\n",
    "- None\n",
    "\n",
    "This function creates a ZNE executor by combining the specified executor with additional arguments, and then applies it to the given circuit to obtain a mitigated value ('combined_value'). The error reduction achieved by the specified error mitigation technique is evaluated by comparing the noisy and ideal expectation values obtained with and without the technique, respectively. The absolute differences are printed to the console.\n"
   ]
  },
  {
   "cell_type": "code",
   "execution_count": 1,
   "metadata": {},
   "outputs": [],
   "source": [
    "def launch(executor, types, circuit, **executor_args):\n",
    "   zne_executor = zne.mitigate_executor(executor=executor, **executor_args)\n",
    "   combined_value = zne_executor(circuit)\n",
    "\n",
    "   print(f\"Error without {types}:Circuit3: {abs(ideal_valueA - noisy_valueA) :.5f}\")\n",
    "   print(f\"Error with {types}:Circuit3:    {abs(ideal_valueA - combined_value) :.5f}\")"
   ]
  }
 ],
 "metadata": {
  "kernelspec": {
   "display_name": "qrize",
   "language": "python",
   "name": "python3"
  },
  "language_info": {
   "codemirror_mode": {
    "name": "ipython",
    "version": 3
   },
   "file_extension": ".py",
   "mimetype": "text/x-python",
   "name": "python",
   "nbconvert_exporter": "python",
   "pygments_lexer": "ipython3",
   "version": "3.11.0"
  }
 },
 "nbformat": 4,
 "nbformat_minor": 2
}
